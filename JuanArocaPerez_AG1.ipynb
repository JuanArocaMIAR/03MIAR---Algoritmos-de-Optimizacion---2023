{
  "nbformat": 4,
  "nbformat_minor": 0,
  "metadata": {
    "colab": {
      "provenance": [],
      "authorship_tag": "ABX9TyPAIFJeUG7v7qftMsSjaGMj",
      "include_colab_link": true
    },
    "kernelspec": {
      "name": "python3",
      "display_name": "Python 3"
    },
    "language_info": {
      "name": "python"
    }
  },
  "cells": [
    {
      "cell_type": "markdown",
      "metadata": {
        "id": "view-in-github",
        "colab_type": "text"
      },
      "source": [
        "<a href=\"https://colab.research.google.com/github/JuanArocaMIAR/03MIAR---Algoritmos-de-Optimizacion---2023/blob/main/JuanArocaPerez_AG1.ipynb\" target=\"_parent\"><img src=\"https://colab.research.google.com/assets/colab-badge.svg\" alt=\"Open In Colab\"/></a>"
      ]
    },
    {
      "cell_type": "markdown",
      "source": [
        "**Actividad Guiada 1 de Algoritmos de Optimización**\n",
        "\n",
        "**Nombre:** Juan Aroca Pérez\n",
        "\n",
        "https://colab.research.google.com/drive/1g7PcMuMEP3_NMZzD0COvnLLH0FWt6WXQ?usp=sharing\n",
        "\n",
        "https://github.com/JuanArocaMIAR/03MIAR---Algoritmos-de-Optimizacion---2023"
      ],
      "metadata": {
        "id": "_-QR9uC5m_gK"
      }
    },
    {
      "cell_type": "code",
      "metadata": {
        "id": "rTiqLuX2ZKuL"
      },
      "source": [
        "#Torres de Hanoi - Divide y venceras\n",
        "################################################################################\n",
        "\n",
        "\n",
        "################################################################\n",
        "def Torres_Hanoi(N, desde, hasta):\n",
        "  #N - Nº de fichas\n",
        "  #desde - torre inicial+\n",
        "  #hasta - torre fina\n",
        "  if N==1 :\n",
        "    print(\"Lleva la ficha desde \" + str(desde) + \" hasta \" + str(hasta)) #Si solo se tiene una ficha el problema ya está termiando\n",
        "\n",
        "  else:\n",
        "    Torres_Hanoi(N-1, desde, 6-desde-hasta) #Se divide el problema en dos, primero mover N-1 fichas desde al torre inicial a la pivote\n",
        "    # 6-desde-hasta calcula el pivote (1+2+3=6)\n",
        "    print(\"Lleva la ficha desde \" + str(desde) + \" hasta \" + str(hasta))\n",
        "    Torres_Hanoi(N-1, 6-desde-hasta,  hasta) #Segundo mover N-1 fichas de la pivote al final\n",
        "    # esto se repite por recursividad llamando a la función hasta que solo quede una ficha y se mueva de una torre a otra\n",
        "\n",
        "Torres_Hanoi(3, 1, 3)\n",
        "################################################################"
      ],
      "execution_count": null,
      "outputs": []
    },
    {
      "cell_type": "code",
      "metadata": {
        "id": "YwBudj2hYoMR"
      },
      "source": [
        "#Cambio de monedas - Técnica voraz\n",
        "################################################################################\n",
        "SISTEMA = [25, 10, 5, 1] #Ordenado de mayor a menor siempre\n",
        "################################################################\n",
        "def cambio_monedas(CANTIDAD,SISTEMA):\n",
        "#....\n",
        "  SOLUCION = [0]*len(SISTEMA)\n",
        "  ValorAcumulado = 0\n",
        "\n",
        "  for i,valor in enumerate(SISTEMA):\n",
        "    monedas = (CANTIDAD-ValorAcumulado)//valor\n",
        "    SOLUCION[i] = monedas\n",
        "    ValorAcumulado += monedas*valor\n",
        "\n",
        "    if CANTIDAD == ValorAcumulado:\n",
        "      return SOLUCION\n",
        "\n",
        "  print(\"No es posible encontrar solucion\")\n",
        "\n",
        "cambio_monedas(42, SISTEMA)\n",
        "################################################################"
      ],
      "execution_count": null,
      "outputs": []
    },
    {
      "cell_type": "code",
      "metadata": {
        "id": "H4Iwt2XRZTFr"
      },
      "source": [
        "#N Reinas - Vuelta Atrás()\n",
        "################################################################################\n",
        "\n",
        "#Verifica que en la solución parcial no hay amenzas entre reinas\n",
        "################################################################\n",
        "def es_prometedora(SOLUCION,etapa):\n",
        "################################################################\n",
        "  #print(SOLUCION)\n",
        "  #Si la solución tiene dos valores iguales no es valida => Dos reinas en la misma fila\n",
        "  for i in range(etapa+1):\n",
        "    #print(\"El valor \" + str(SOLUCION[i]) + \" está \" +  str(SOLUCION.count(SOLUCION[i])) + \" veces\")\n",
        "    if SOLUCION.count(SOLUCION[i]) > 1:\n",
        "      return False\n",
        "\n",
        "    #Verifica las diagonales\n",
        "    for j in range(i+1, etapa +1 ):\n",
        "      #print(\"Comprobando diagonal de \" + str(i) + \" y \" + str(j))\n",
        "      if abs(i-j) == abs(SOLUCION[i]-SOLUCION[j]):\n",
        "        return False\n",
        "  return True\n",
        "\n",
        "#Traduce la solución al tablero\n",
        "################################################################\n",
        "def escribe_solucion(S):\n",
        "################################################################\n",
        "  n = len(S)\n",
        "  for x in range(n):\n",
        "    print(\"\")\n",
        "    for i in range(n):\n",
        "      if S[i] == x+1:\n",
        "        print(\" X \" , end=\"\")\n",
        "      else:\n",
        "        print(\" - \", end=\"\")\n",
        "\n",
        "#Proceso principal de N-Reinas\n",
        "################################################################\n",
        "def reinas(N, solucion=[], etapa=0):\n",
        "################################################################\n",
        "### ....\n",
        "  if len(solucion) == 0:         # [0,0,0...] hacemos una lista del mismo tamaño que el numero de reinas\n",
        "    solucion = [0 for i in range(N) ]\n",
        "\n",
        "  for i in range(1, N+1):\n",
        "    solucion[etapa] = i\n",
        "    if es_prometedora(solucion, etapa):\n",
        "      if etapa == N-1:\n",
        "        print(solucion)\n",
        "      else:\n",
        "        reinas(N, solucion, etapa+1)\n",
        "    else:\n",
        "      None\n",
        "\n",
        "  solucion[etapa] = 0\n",
        "\n",
        "reinas(8,solucion=[],etapa=0)"
      ],
      "execution_count": null,
      "outputs": []
    },
    {
      "cell_type": "code",
      "metadata": {
        "id": "eTZclKH9QV0R"
      },
      "source": [
        "escribe_solucion([6, 4, 2, 8, 5, 7, 1, 3])"
      ],
      "execution_count": null,
      "outputs": []
    },
    {
      "cell_type": "code",
      "metadata": {
        "id": "TocxR55dQWq5",
        "outputId": "06862f20-61f9-4a63-8dde-8ef3900cca09",
        "colab": {
          "base_uri": "https://localhost:8080/",
          "height": 365
        }
      },
      "source": [
        "#Viaje por el rio - Programación dinámica\n",
        "################################################################################\n",
        "\n",
        "TARIFAS = [\n",
        "[0,5,4,3,999,999,999],\n",
        "[999,0,999,2,3,999,11],\n",
        "[999,999, 0,1,999,4,10],\n",
        "[999,999,999, 0,5,6,9],\n",
        "[999,999, 999,999,0,999,4],\n",
        "[999,999, 999,999,999,0,3],\n",
        "[999,999,999,999,999,999,0]\n",
        "]\n",
        "\n",
        "#999 se puede sustituir por float(\"inf\"), nos indica que es imposible ir desde el nodo actual a ese punto\n",
        "\n",
        "\n",
        "#Calculo de la matriz de PRECIOS y RUTAS\n",
        "################################################################\n",
        "def Precios(TARIFAS):\n",
        "################################################################\n",
        "  #Total de Nodos\n",
        "  N = len(TARIFAS[0])\n",
        "\n",
        "  #Inicialización de la tabla de precios\n",
        "  PRECIOS = [ [9999]*N for i in [9999]*N]\n",
        "  RUTA = [ [\"\"]*N for i in [\"\"]*N]\n",
        "\n",
        "  for i in range(0,N-1):\n",
        "    RUTA[i][i] = i             #Para ir de i a i se \"pasa por i\"\n",
        "    PRECIOS[i][i] = 0          #Para ir de i a i se se paga 0\n",
        "    for j in range(i+1, N):\n",
        "      MIN = TARIFAS[i][j]\n",
        "      RUTA[i][j] = i\n",
        "\n",
        "      for k in range(i, j):\n",
        "        if PRECIOS[i][k] + TARIFAS[k][j] < MIN:\n",
        "            MIN = min(MIN, PRECIOS[i][k] + TARIFAS[k][j] )\n",
        "            RUTA[i][j] = k          #Anota que para ir de i a j hay que pasar por k\n",
        "        PRECIOS[i][j] = MIN\n",
        "\n",
        "  return PRECIOS,RUTA\n",
        "################################################################\n",
        "\n",
        "PRECIOS,RUTA = Precios(TARIFAS)\n",
        "#print(PRECIOS[0][6])\n",
        "\n",
        "print(\"PRECIOS\")\n",
        "for i in range(len(TARIFAS)):\n",
        "  print(PRECIOS[i])\n",
        "\n",
        "print(\"\\nRUTA\")\n",
        "for i in range(len(TARIFAS)):\n",
        "  print(RUTA[i])\n",
        "\n",
        "#Determinar la ruta con Recursividad\n",
        "def calcular_ruta(RUTA, desde, hasta):\n",
        "  if desde == hasta:\n",
        "    #print(\"Ir a :\" + str(desde))\n",
        "    return \"\"\n",
        "  else:\n",
        "    return str(calcular_ruta( RUTA, desde, RUTA[desde][hasta])) +  \\\n",
        "                ',' + \\\n",
        "                str(RUTA[desde][hasta] \\\n",
        "              )\n",
        "\n",
        "print(\"\\nLa ruta es:\")\n",
        "calcular_ruta(RUTA, 0,6)"
      ],
      "execution_count": null,
      "outputs": [
        {
          "output_type": "stream",
          "name": "stdout",
          "text": [
            "PRECIOS\n",
            "[0, 5, 4, 3, 8, 8, 11]\n",
            "[9999, 0, 999, 2, 3, 8, 7]\n",
            "[9999, 9999, 0, 1, 6, 4, 7]\n",
            "[9999, 9999, 9999, 0, 5, 6, 9]\n",
            "[9999, 9999, 9999, 9999, 0, 999, 4]\n",
            "[9999, 9999, 9999, 9999, 9999, 0, 3]\n",
            "[9999, 9999, 9999, 9999, 9999, 9999, 9999]\n",
            "\n",
            "RUTA\n",
            "[0, 0, 0, 0, 1, 2, 5]\n",
            "['', 1, 1, 1, 1, 3, 4]\n",
            "['', '', 2, 2, 3, 2, 5]\n",
            "['', '', '', 3, 3, 3, 3]\n",
            "['', '', '', '', 4, 4, 4]\n",
            "['', '', '', '', '', 5, 5]\n",
            "['', '', '', '', '', '', '']\n",
            "\n",
            "La ruta es:\n"
          ]
        },
        {
          "output_type": "execute_result",
          "data": {
            "text/plain": [
              "',0,2,5'"
            ],
            "application/vnd.google.colaboratory.intrinsic+json": {
              "type": "string"
            }
          },
          "metadata": {},
          "execution_count": 81
        }
      ]
    },
    {
      "cell_type": "markdown",
      "source": [
        "Problema: Encontrar los dos puntos más cercanos"
      ],
      "metadata": {
        "id": "cZXOENzoc8os"
      }
    },
    {
      "cell_type": "code",
      "source": [
        "import random\n",
        "import math"
      ],
      "metadata": {
        "id": "AT5P15ZSdL59"
      },
      "execution_count": null,
      "outputs": []
    },
    {
      "cell_type": "markdown",
      "source": [
        "Para puntos de 1D puede resolverse por \"FUERZA BRUTA\" ordenando todos los puntos y viendo la distancia que hay entre cada par."
      ],
      "metadata": {
        "id": "J36DvW7hNU4i"
      }
    },
    {
      "cell_type": "code",
      "source": [
        "# 1D\n",
        "################################################################################\n",
        "def par_mas_cercano(puntos):\n",
        "    # Verificar que hay al menos dos puntos\n",
        "    if len(puntos) < 2:\n",
        "        return None\n",
        "\n",
        "    # En primer lugar se ordenan los puntos de la lista de menor a mayor\n",
        "    puntos_ordenados = sorted(puntos)\n",
        "\n",
        "    # Utilizar el primer par de puntos como punto de referencia\n",
        "    par_cercano = puntos_ordenados[0], puntos_ordenados[1]\n",
        "    distancia_minima = puntos_ordenados[1] - puntos_ordenados[0]\n",
        "\n",
        "    # Iterar sobre los puntos para encontrar el par más cercano\n",
        "    for i in range(2, len(puntos_ordenados)):\n",
        "        distancia_actual = puntos_ordenados[i] - puntos_ordenados[i - 1]\n",
        "\n",
        "        # Actualizar el par más cercano si encontramos una distancia menor\n",
        "        if distancia_actual < distancia_minima:\n",
        "            distancia_minima = distancia_actual\n",
        "            par_cercano = (puntos_ordenados[i - 1], puntos_ordenados[i])\n",
        "\n",
        "    return par_cercano, distancia_minima\n",
        "################################################################################\n",
        "\n",
        "lista_1D = [random.randrange(1, 10000) for i in range(10)]\n",
        "resultado = par_mas_cercano(lista_1D)\n",
        "print(\"Par más cercano:\" + str(resultado[0]))\n",
        "print('Se encuentra a una distancia de: ' + str(resultado[1]) + ' unidades')"
      ],
      "metadata": {
        "colab": {
          "base_uri": "https://localhost:8080/"
        },
        "id": "l5L0Atfic8cV",
        "outputId": "652f4a7d-5df7-45c1-f589-f6d0c9c4b6f2"
      },
      "execution_count": null,
      "outputs": [
        {
          "output_type": "stream",
          "name": "stdout",
          "text": [
            "Par más cercano:(6943, 6994)\n",
            "Se encuentra a una distancia de: 51 unidades\n"
          ]
        }
      ]
    },
    {
      "cell_type": "markdown",
      "source": [
        "Para puntos de 2D puede resolverse mediante la técnica \"DIVIDE Y VENCERÁS\" ordenando todos los puntos y viendo la distancia que hay entre cada par."
      ],
      "metadata": {
        "id": "kF2dMvcFcd_G"
      }
    },
    {
      "cell_type": "code",
      "source": [
        "# 2D\n",
        "################################################################################\n",
        "def par_mas_cercano_2D(lista_2D):\n",
        "    # Verificar que hay al menos dos puntos\n",
        "    if len(lista_2D) < 2:\n",
        "        return None\n",
        "\n",
        "    # Ordenar los puntos por coordenada x\n",
        "    puntos_ordenados = sorted(lista_2D)\n",
        "\n",
        "    # Función auxiliar para calcular la distancia entre dos puntos\n",
        "    def distancia_2D(p1, p2):\n",
        "        return math.sqrt((p1[0] - p2[0])**2 + (p1[1] - p2[1])**2)\n",
        "\n",
        "    # Función principal para encontrar los puntos más cercanos en dos dimensiones\n",
        "    def par_mas_cercano_recursivo(lista_2D):\n",
        "        n = len(lista_2D)\n",
        "\n",
        "        # Caso base: si hay pocos puntos, resuelve directamente, para salir de la recursividad\n",
        "        if n <= 3:\n",
        "            return min([(lista_2D[i], lista_2D[j], distancia_2D(lista_2D[i], lista_2D[j])) for i in range(n) for j in range(i + 1, n)], key=lambda x: x[2])\n",
        "\n",
        "        # Dividir los puntos en dos mitades\n",
        "        mid = n // 2\n",
        "        mitad_izquierda = lista_2D[:mid]\n",
        "        mitad_derecha = lista_2D[mid:]\n",
        "\n",
        "        # Recursivamente encontrar los puntos más cercanos en cada mitad\n",
        "        izquierda_cercano = par_mas_cercano_recursivo(mitad_izquierda)\n",
        "        derecha_cercano = par_mas_cercano_recursivo(mitad_derecha)\n",
        "\n",
        "        # Encontrar el par más cercano entre las dos mitades\n",
        "        distancia_minima = min(izquierda_cercano[2], derecha_cercano[2])\n",
        "        franja_central = [punto for punto in lista_2D if abs(punto[0] - puntos_ordenados[mid][0]) < distancia_minima]\n",
        "        cercano_franja = par_mas_cercano_franja(franja_central, distancia_minima)\n",
        "\n",
        "        # Devolver el par más cercano entre los tres conjuntos\n",
        "        return min(filter(None, [izquierda_cercano, derecha_cercano, cercano_franja]), key=lambda x: x[2])\n",
        "\n",
        "    # Función auxiliar para encontrar el par más cercano en la franja\n",
        "    def par_mas_cercano_franja(franja, distancia_minima):\n",
        "        n = len(franja)\n",
        "        par_minimo = None\n",
        "\n",
        "        # Ordenar la franja por coordenada y\n",
        "        franja_ordenada = sorted(franja, key=lambda p: p[1])\n",
        "\n",
        "        # Iterar sobre los puntos en la franja\n",
        "        for i in range(n):\n",
        "            j = i + 1\n",
        "            while j < n and franja_ordenada[j][1] - franja_ordenada[i][1] < distancia_minima:\n",
        "                distancia = distancia_2D(franja_ordenada[i], franja_ordenada[j])\n",
        "                if distancia < distancia_minima:\n",
        "                    distancia_minima = distancia\n",
        "                    par_minimo = (franja_ordenada[i], franja_ordenada[j], distancia_minima)\n",
        "                j += 1\n",
        "\n",
        "        return par_minimo\n",
        "\n",
        "    return par_mas_cercano_recursivo(puntos_ordenados)\n",
        "################################################################################\n",
        "\n",
        "lista_2D = [(random.randrange(1, 10000), random.randrange(1, 10000)) for i in range(20)]\n",
        "resultado_2D = par_mas_cercano_2D(lista_2D)\n",
        "print(\"Par más cercano:\" + str(resultado_2D[0:2]))\n",
        "print('Se encuentra a una distancia de: ' + str(round(resultado_2D[2], 2)) + ' unidades')"
      ],
      "metadata": {
        "colab": {
          "base_uri": "https://localhost:8080/"
        },
        "id": "B2UE9CAXBGbh",
        "outputId": "3d34f516-a12c-4fc9-b8fb-25ffe3cfdab2"
      },
      "execution_count": null,
      "outputs": [
        {
          "output_type": "stream",
          "name": "stdout",
          "text": [
            "Par más cercano:((8929, 4547), (8935, 4274))\n",
            "Se encuentra a una distancia de: 273.07 unidades\n"
          ]
        }
      ]
    },
    {
      "cell_type": "code",
      "source": [
        "# 3D\n",
        "################################################################################\n",
        "import math\n",
        "import random\n",
        "\n",
        "def par_mas_cercano_3D(puntos):\n",
        "    # Verificar que hay al menos dos puntos\n",
        "    if len(puntos) < 2:\n",
        "        return None\n",
        "\n",
        "    # Ordenar los puntos en cada dimensión\n",
        "    puntos_ordenados_x = sorted(puntos, key=lambda x: x[0])\n",
        "    puntos_ordenados_y = sorted(puntos, key=lambda x: x[1])\n",
        "    puntos_ordenados_z = sorted(puntos, key=lambda x: x[2])\n",
        "\n",
        "    # Función para calcular la distancia entre dos puntos 3D\n",
        "    def distancia(punto1, punto2):\n",
        "        return math.sqrt((punto1[0] - punto2[0])**2 + (punto1[1] - punto2[1])**2 + (punto1[2] - punto2[2])**2)\n",
        "\n",
        "    # Función para encontrar los dos puntos más cercanos en una franja\n",
        "    def par_mas_cercano_en_franja(franja, distancia_minima):\n",
        "        n = len(franja)\n",
        "        for i in range(n):\n",
        "            j = i + 1\n",
        "            while j < n and (franja[j][1] - franja[i][1]) < distancia_minima:\n",
        "                distancia_minima = min(distancia_minima, distancia(franja[i], franja[j]))\n",
        "                j += 1\n",
        "        return distancia_minima\n",
        "\n",
        "    # Función principal de divide y vencerás\n",
        "    def par_mas_cercano_recursivo(px, py, pz):\n",
        "        n = len(px)\n",
        "\n",
        "        # Caso base: si hay pocos puntos, usa fuerza bruta\n",
        "        if n <= 3:\n",
        "            return min(distancia(px[i], px[j]) for i in range(n) for j in range(i + 1, n))\n",
        "\n",
        "        # Dividir los puntos en dos mitades\n",
        "        medio = n // 2\n",
        "        qx = px[:medio]\n",
        "        qy = sorted(px[medio:], key=lambda x: x[1])\n",
        "        qz = sorted(px[medio:], key=lambda x: x[2])\n",
        "\n",
        "        # Puntos en la franja central\n",
        "        franja = [punto for punto in py if abs(punto[0] - px[medio][0]) < distancia_minima]\n",
        "\n",
        "        # Encontrar los dos puntos más cercanos en cada mitad\n",
        "        delta_izquierdo = par_mas_cercano_recursivo(qx, qy, qz)\n",
        "        delta_derecho = par_mas_cercano_recursivo(px[medio:], py, pz)\n",
        "\n",
        "        # Encontrar la distancia mínima entre los dos lados\n",
        "        delta = min(delta_izquierdo, delta_derecho)\n",
        "\n",
        "        # Encontrar la distancia mínima en la franja central\n",
        "        delta_franja = par_mas_cercano_en_franja(franja, delta)\n",
        "\n",
        "        return min(delta, delta_franja)\n",
        "\n",
        "    # Inicializar la variable distancia_minima antes de llamar a la función recursiva\n",
        "    distancia_minima = float('inf')\n",
        "\n",
        "    return par_mas_cercano_recursivo(puntos_ordenados_x, puntos_ordenados_y, puntos_ordenados_z)\n",
        "\n",
        "################################################################################\n",
        "\n",
        "lista_3D = [(random.randrange(1, 10000), random.randrange(1, 10000), random.randrange(1, 10000)) for i in range(20)]\n",
        "resultado = par_mas_cercano_3D(lista_3D)\n",
        "print(\"Distancia mínima entre dos puntos es:\", resultado)"
      ],
      "metadata": {
        "colab": {
          "base_uri": "https://localhost:8080/"
        },
        "id": "pRPCwBS9BGRp",
        "outputId": "436d1eeb-310d-4162-e372-e13132c9275f"
      },
      "execution_count": null,
      "outputs": [
        {
          "output_type": "stream",
          "name": "stdout",
          "text": [
            "Distancia mínima entre dos puntos es: 725.6631449922202\n"
          ]
        }
      ]
    }
  ]
}