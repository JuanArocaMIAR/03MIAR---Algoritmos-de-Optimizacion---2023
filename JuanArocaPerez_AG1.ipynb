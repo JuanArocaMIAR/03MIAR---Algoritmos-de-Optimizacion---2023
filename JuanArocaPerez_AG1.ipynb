{
  "nbformat": 4,
  "nbformat_minor": 0,
  "metadata": {
    "colab": {
      "provenance": [],
      "toc_visible": true,
      "authorship_tag": "ABX9TyNyrbqzHsDLxjHQT8gP77so",
      "include_colab_link": true
    },
    "kernelspec": {
      "name": "python3",
      "display_name": "Python 3"
    },
    "language_info": {
      "name": "python"
    }
  },
  "cells": [
    {
      "cell_type": "markdown",
      "metadata": {
        "id": "view-in-github",
        "colab_type": "text"
      },
      "source": [
        "<a href=\"https://colab.research.google.com/github/JuanArocaMIAR/03MIAR---Algoritmos-de-Optimizacion---2023/blob/main/JuanArocaPerez_AG1.ipynb\" target=\"_parent\"><img src=\"https://colab.research.google.com/assets/colab-badge.svg\" alt=\"Open In Colab\"/></a>"
      ]
    },
    {
      "cell_type": "markdown",
      "source": [
        "**Actividad Guiada 1 de Algoritmos de Optimización**\n",
        "\n",
        "**Nombre:** Juan Aroca Pérez\n",
        "\n",
        "https://colab.research.google.com/drive/1g7PcMuMEP3_NMZzD0COvnLLH0FWt6WXQ?usp=sharing"
      ],
      "metadata": {
        "id": "_-QR9uC5m_gK"
      }
    },
    {
      "cell_type": "code",
      "execution_count": null,
      "metadata": {
        "id": "mYO0xhQ3as5L"
      },
      "outputs": [],
      "source": [
        "# Torres de Hanoi: Técnica divide y vencerás.\n",
        "def torres_hanoy(n_fichas, torre_in, torre_fin):\n",
        "  # n_fichas = número de fichas\n",
        "  # torre_in = torre inicial\n",
        "  # torre_fin = torre final\n",
        "  if n_fichas == 1:\n",
        "    print(f'Mueve la ficha desde {torre_in} hasta {torre_fin}')\n",
        "  else:\n",
        "    torres_hanoy(n_fichas - 1, torre_in, 6 - torre_in - torre_fin) # 6 - torre_in - torre_fin calcula el pivote\n",
        "    print(f'Mueve la ficha desde {torre_in} hasta {torre_fin}')\n",
        "    torres_hanoy(n_fichas - 1, 6 - torre_in - torre_fin, torre_fin )\n",
        "\n",
        "torres_hanoy(3, 1, 3)"
      ]
    }
  ]
}