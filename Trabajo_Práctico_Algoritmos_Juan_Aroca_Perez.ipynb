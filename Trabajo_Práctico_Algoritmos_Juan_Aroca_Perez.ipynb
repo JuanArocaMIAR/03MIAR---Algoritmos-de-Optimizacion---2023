{
  "cells": [
    {
      "cell_type": "markdown",
      "metadata": {
        "id": "hVbXYX-RfPWh"
      },
      "source": [
        "# Algoritmos de optimización - Trabajo Práctico<br>\n",
        "**Nombre y Apellidos: **Juan Aroca Pérez  <br>\n",
        "**Url:** https://github.com/JuanArocaMIAR/03MIAR---Algoritmos-de-Optimizacion---2023.git <br>\n",
        "**Google Colab:** https://colab.research.google.com/drive/1LGoQITetXJ7OG3Qm3OBcyKunZxgf_QNU#scrollTo=0Cf1qwTvPg-m <br>\n",
        "\n",
        "**Problema:**\n",
        ">1. Sesiones de doblaje <br>\n",
        "\n",
        "\n",
        "**Descripción del problema:**\n",
        "\n",
        "Se precisa coordinar el doblaje de una película. Los actores del doblaje deben coincidir en las\n",
        "tomas en las que sus personajes aparecen juntos en las diferentes tomas. Los actores de\n",
        "doblaje cobran todos la misma cantidad por cada día que deben desplazarse hasta el estudio de\n",
        "grabación independientemente del número de tomas que se graben. No es posible grabar más\n",
        "de 6 tomas por día. El objetivo es planificar las sesiones por día de manera que el gasto por los\n",
        "servicios de los actores de doblaje sea el menor posible.\n",
        "\n",
        "\n",
        "\n",
        "\n",
        "\n",
        "\n",
        "\n",
        "                                        "
      ]
    },
    {
      "cell_type": "markdown",
      "metadata": {
        "id": "Sbo9IqQtpaHZ"
      },
      "source": [
        "#Modelo\n",
        "- ¿Como represento el espacio de soluciones?\n",
        "- ¿Cual es la función objetivo?\n",
        "- ¿Como implemento las restricciones?"
      ]
    },
    {
      "cell_type": "markdown",
      "metadata": {
        "id": "W37x2w4_Njin"
      },
      "source": [
        "**¿Cómo represento el espacio de soluciones?**\n",
        "\n",
        "Las soluciones generadas representan la asignación de grabaciones a días de grabación. Cada solución se representa como un diccionario donde la clave es el día y el valor asociado es una lista que contiene las diferentes grabaciones que se graban ese día. Esta estructura de datos se imprime en pantalla para mostrar cómo se han asignado las grabaciones a los días.\n",
        "\n",
        "\n",
        "**¿Cuál es la función objetivo?**\n",
        "\n",
        "La función objetivo busca minimizar el coste total de los servicios de los actores de doblaje. Por lo que sumamos los costes de las tomas asignadas a cada día.\n",
        "en el código se encuentra en la variable ***coste_grabacion***\n",
        "\n",
        "**¿Cómo implemento las restricciones?**\n",
        "\n",
        "- **Número de tomas:**\n",
        "\n",
        "  Esta restricción se asegura de que la suma de tomas asignadas a cada día no exceda 6.\n",
        "  Se implementa agregando una restricción para cada día en la matriz binaria que representa las asignaciones de tomas a días. Esta restricción establece que la suma de las tomas asignadas a ese día debe ser menor o igual a 6.\n",
        "\n",
        "- **Asignación única:**\n",
        "\n",
        "  Esta restricción garantiza que cada toma se grabe en un día y no en el resto. Esto se logra asegurándose de que la suma de las asignaciones de las tomas a un día específico sea igual a 1.\n",
        "\n",
        "\n",
        "- **Restricción de coincidencia de actores:**\n",
        "\n",
        "  Así se asegura que los actores que comparten una toma estén asignados al mismo día.\n",
        "  Se implementa asegurándose de que si dos tomas tienen actores en común, entonces deben asignarse al mismo día."
      ]
    },
    {
      "cell_type": "markdown",
      "metadata": {
        "id": "HZz52wOppp-U"
      },
      "source": [
        "#Análisis\n",
        "- ¿Que complejidad tiene el problema?. Orden de complejidad y Contabilizar el espacio de soluciones"
      ]
    },
    {
      "cell_type": "markdown",
      "metadata": {
        "id": "fwIiPw_Wq0nU"
      },
      "source": [
        "**Orden de complejidad:**\n",
        "\n",
        "- Ordenamiento de tomas: Esto tiene una complejidad de tiempo de O(n log n), donde n es el número de tomas.\n",
        "\n",
        "- Asignación de tomas a días: En el peor de los casos, cada toma debe ser asignada a un nuevo día, lo que resultaría en O(n^2) operaciones.\n",
        "\n",
        "- Cálculo del coste total: Esto tiene una complejidad de tiempo de O(n), donde n es el número total de tomas asignadas.\n",
        "\n",
        "En total, la complejidad del algoritmo es dominada por el ordenamiento de las tomas (O(n log n)) y la asignación de tomas a días (O(n^2)), por lo que la complejidad de froam general puede definirse como O(n^2).\n",
        "\n",
        "**Espacio de soluciones:**\n",
        "\n",
        "Para el espacio de soluciones, se considera que hay 30 tomas en total. Cada toma puede asignarse a cualquiera de los días posibles, lo que significa que hay 6 posibilidades para la primera toma, 6 para la segunda, y así sucesivamente. Por lo tanto, el espacio de soluciones es 6^30.\n"
      ]
    },
    {
      "cell_type": "markdown",
      "metadata": {
        "id": "ixEJUwH_pv7M"
      },
      "source": [
        "#Diseño\n",
        "- ¿Que técnica utilizo? ¿Por qué?"
      ]
    },
    {
      "cell_type": "markdown",
      "metadata": {
        "id": "0Cf1qwTvPg-m"
      },
      "source": [
        "El codigo se basa en la técnica voraz debido al equilibrio entre simplicidad y eficiencia, ya que proporciona soluciones aceptables en un tiempo razonable. La elección de esta técnica se debe a varias razones:\n",
        "\n",
        "1. **Facilidad de implementación**: La estrategia de técnica voraz es bastante sencilla de entender y de implementar en comparación con métodos más complejos.\n",
        "\n",
        "2. **Menor complejidad**: A diferencia de enfoques más elaborados, la técnica voraz no requiere manipulaciones complejas.\n",
        "\n",
        "3. **Eficiencia computacional**: Aunque la técnica voraz no garantiza la solución óptima, suele proporcionar soluciones aceptables en un tiempo razonable, especialmente para problemas de tamaño moderado.\n",
        "\n",
        "4. **Buena aproximación**: En muchos casos, la estrategia de técnica voraz puede dar soluciones bastante cercanas a la óptima."
      ]
    },
    {
      "cell_type": "markdown",
      "metadata": {
        "id": "HF5WCSg2RNaU"
      },
      "source": [
        "#1º: Carga de los datos del problema"
      ]
    },
    {
      "cell_type": "code",
      "execution_count": 97,
      "metadata": {
        "id": "eOsQpVWo2JaG"
      },
      "outputs": [],
      "source": [
        "# Librerias necesarias\n",
        "\n",
        "import numpy as np\n",
        "import pandas as pd\n",
        "from google.colab import files\n",
        "import random\n",
        "from copy import deepcopy\n",
        "import math\n"
      ]
    },
    {
      "cell_type": "code",
      "execution_count": 98,
      "metadata": {
        "colab": {
          "base_uri": "https://localhost:8080/",
          "height": 73
        },
        "id": "xUrxAHUQRMls",
        "outputId": "b98d99d7-b840-49b6-e789-81c27b7ec073"
      },
      "outputs": [
        {
          "data": {
            "text/html": [
              "\n",
              "     <input type=\"file\" id=\"files-e2ba1f7d-55aa-4e96-9a39-2548240dec9b\" name=\"files[]\" multiple disabled\n",
              "        style=\"border:none\" />\n",
              "     <output id=\"result-e2ba1f7d-55aa-4e96-9a39-2548240dec9b\">\n",
              "      Upload widget is only available when the cell has been executed in the\n",
              "      current browser session. Please rerun this cell to enable.\n",
              "      </output>\n",
              "      <script>// Copyright 2017 Google LLC\n",
              "//\n",
              "// Licensed under the Apache License, Version 2.0 (the \"License\");\n",
              "// you may not use this file except in compliance with the License.\n",
              "// You may obtain a copy of the License at\n",
              "//\n",
              "//      http://www.apache.org/licenses/LICENSE-2.0\n",
              "//\n",
              "// Unless required by applicable law or agreed to in writing, software\n",
              "// distributed under the License is distributed on an \"AS IS\" BASIS,\n",
              "// WITHOUT WARRANTIES OR CONDITIONS OF ANY KIND, either express or implied.\n",
              "// See the License for the specific language governing permissions and\n",
              "// limitations under the License.\n",
              "\n",
              "/**\n",
              " * @fileoverview Helpers for google.colab Python module.\n",
              " */\n",
              "(function(scope) {\n",
              "function span(text, styleAttributes = {}) {\n",
              "  const element = document.createElement('span');\n",
              "  element.textContent = text;\n",
              "  for (const key of Object.keys(styleAttributes)) {\n",
              "    element.style[key] = styleAttributes[key];\n",
              "  }\n",
              "  return element;\n",
              "}\n",
              "\n",
              "// Max number of bytes which will be uploaded at a time.\n",
              "const MAX_PAYLOAD_SIZE = 100 * 1024;\n",
              "\n",
              "function _uploadFiles(inputId, outputId) {\n",
              "  const steps = uploadFilesStep(inputId, outputId);\n",
              "  const outputElement = document.getElementById(outputId);\n",
              "  // Cache steps on the outputElement to make it available for the next call\n",
              "  // to uploadFilesContinue from Python.\n",
              "  outputElement.steps = steps;\n",
              "\n",
              "  return _uploadFilesContinue(outputId);\n",
              "}\n",
              "\n",
              "// This is roughly an async generator (not supported in the browser yet),\n",
              "// where there are multiple asynchronous steps and the Python side is going\n",
              "// to poll for completion of each step.\n",
              "// This uses a Promise to block the python side on completion of each step,\n",
              "// then passes the result of the previous step as the input to the next step.\n",
              "function _uploadFilesContinue(outputId) {\n",
              "  const outputElement = document.getElementById(outputId);\n",
              "  const steps = outputElement.steps;\n",
              "\n",
              "  const next = steps.next(outputElement.lastPromiseValue);\n",
              "  return Promise.resolve(next.value.promise).then((value) => {\n",
              "    // Cache the last promise value to make it available to the next\n",
              "    // step of the generator.\n",
              "    outputElement.lastPromiseValue = value;\n",
              "    return next.value.response;\n",
              "  });\n",
              "}\n",
              "\n",
              "/**\n",
              " * Generator function which is called between each async step of the upload\n",
              " * process.\n",
              " * @param {string} inputId Element ID of the input file picker element.\n",
              " * @param {string} outputId Element ID of the output display.\n",
              " * @return {!Iterable<!Object>} Iterable of next steps.\n",
              " */\n",
              "function* uploadFilesStep(inputId, outputId) {\n",
              "  const inputElement = document.getElementById(inputId);\n",
              "  inputElement.disabled = false;\n",
              "\n",
              "  const outputElement = document.getElementById(outputId);\n",
              "  outputElement.innerHTML = '';\n",
              "\n",
              "  const pickedPromise = new Promise((resolve) => {\n",
              "    inputElement.addEventListener('change', (e) => {\n",
              "      resolve(e.target.files);\n",
              "    });\n",
              "  });\n",
              "\n",
              "  const cancel = document.createElement('button');\n",
              "  inputElement.parentElement.appendChild(cancel);\n",
              "  cancel.textContent = 'Cancel upload';\n",
              "  const cancelPromise = new Promise((resolve) => {\n",
              "    cancel.onclick = () => {\n",
              "      resolve(null);\n",
              "    };\n",
              "  });\n",
              "\n",
              "  // Wait for the user to pick the files.\n",
              "  const files = yield {\n",
              "    promise: Promise.race([pickedPromise, cancelPromise]),\n",
              "    response: {\n",
              "      action: 'starting',\n",
              "    }\n",
              "  };\n",
              "\n",
              "  cancel.remove();\n",
              "\n",
              "  // Disable the input element since further picks are not allowed.\n",
              "  inputElement.disabled = true;\n",
              "\n",
              "  if (!files) {\n",
              "    return {\n",
              "      response: {\n",
              "        action: 'complete',\n",
              "      }\n",
              "    };\n",
              "  }\n",
              "\n",
              "  for (const file of files) {\n",
              "    const li = document.createElement('li');\n",
              "    li.append(span(file.name, {fontWeight: 'bold'}));\n",
              "    li.append(span(\n",
              "        `(${file.type || 'n/a'}) - ${file.size} bytes, ` +\n",
              "        `last modified: ${\n",
              "            file.lastModifiedDate ? file.lastModifiedDate.toLocaleDateString() :\n",
              "                                    'n/a'} - `));\n",
              "    const percent = span('0% done');\n",
              "    li.appendChild(percent);\n",
              "\n",
              "    outputElement.appendChild(li);\n",
              "\n",
              "    const fileDataPromise = new Promise((resolve) => {\n",
              "      const reader = new FileReader();\n",
              "      reader.onload = (e) => {\n",
              "        resolve(e.target.result);\n",
              "      };\n",
              "      reader.readAsArrayBuffer(file);\n",
              "    });\n",
              "    // Wait for the data to be ready.\n",
              "    let fileData = yield {\n",
              "      promise: fileDataPromise,\n",
              "      response: {\n",
              "        action: 'continue',\n",
              "      }\n",
              "    };\n",
              "\n",
              "    // Use a chunked sending to avoid message size limits. See b/62115660.\n",
              "    let position = 0;\n",
              "    do {\n",
              "      const length = Math.min(fileData.byteLength - position, MAX_PAYLOAD_SIZE);\n",
              "      const chunk = new Uint8Array(fileData, position, length);\n",
              "      position += length;\n",
              "\n",
              "      const base64 = btoa(String.fromCharCode.apply(null, chunk));\n",
              "      yield {\n",
              "        response: {\n",
              "          action: 'append',\n",
              "          file: file.name,\n",
              "          data: base64,\n",
              "        },\n",
              "      };\n",
              "\n",
              "      let percentDone = fileData.byteLength === 0 ?\n",
              "          100 :\n",
              "          Math.round((position / fileData.byteLength) * 100);\n",
              "      percent.textContent = `${percentDone}% done`;\n",
              "\n",
              "    } while (position < fileData.byteLength);\n",
              "  }\n",
              "\n",
              "  // All done.\n",
              "  yield {\n",
              "    response: {\n",
              "      action: 'complete',\n",
              "    }\n",
              "  };\n",
              "}\n",
              "\n",
              "scope.google = scope.google || {};\n",
              "scope.google.colab = scope.google.colab || {};\n",
              "scope.google.colab._files = {\n",
              "  _uploadFiles,\n",
              "  _uploadFilesContinue,\n",
              "};\n",
              "})(self);\n",
              "</script> "
            ],
            "text/plain": [
              "<IPython.core.display.HTML object>"
            ]
          },
          "metadata": {},
          "output_type": "display_data"
        },
        {
          "name": "stdout",
          "output_type": "stream",
          "text": [
            "Saving Datos problema doblaje(30 tomas, 10 actores) - Hoja 1.csv to Datos problema doblaje(30 tomas, 10 actores) - Hoja 1 (3).csv\n"
          ]
        }
      ],
      "source": [
        "# Subir el archivo CSV desde tu sistema local\n",
        "archivo = files.upload()\n",
        "\n",
        "# Seleccionar el archivo\n",
        "datos = list(archivo.keys())[0]\n",
        "\n",
        "# Cargar el dataframe desde el archivo CSV\n",
        "df = pd.read_csv(datos, index_col=0)\n",
        "\n",
        "# # Modificar y limpiar datos\n",
        "df = df.iloc[1:30, 0:10]"
      ]
    },
    {
      "cell_type": "code",
      "execution_count": 99,
      "metadata": {
        "id": "UkaL70xwxoKh"
      },
      "outputs": [],
      "source": [
        "tabla_actores = df.values.tolist()"
      ]
    },
    {
      "cell_type": "markdown",
      "metadata": {
        "id": "xdKqNsDfW8C2"
      },
      "source": [
        "##2º: Técnica Voraz"
      ]
    },
    {
      "cell_type": "code",
      "execution_count": 115,
      "metadata": {
        "colab": {
          "base_uri": "https://localhost:8080/",
          "height": 0
        },
        "id": "gOzprWw0gN1b",
        "outputId": "d405af76-3215-488c-a948-eefcca12421a"
      },
      "outputs": [
        {
          "name": "stdout",
          "output_type": "stream",
          "text": [
            "~ ORGANIZACIÓN DE TOMAS POR DIAS ~\n",
            "--------------------------------\n",
            "Día 1 --------------------------\n",
            "Tomas: 1, 11, 12, 4, 6, 10\n",
            "Actores necesarios para grabar: 1, 2, 3, 4, 5, 6, 7, 8, 9\n",
            "\n",
            "Día 2 --------------------------\n",
            "Tomas: 7, 20, 22, 25, 26, 2\n",
            "Actores necesarios para grabar: 1, 2, 3, 4, 5, 9, 10\n",
            "\n",
            "Día 3 --------------------------\n",
            "Tomas: 3, 13, 14, 29, 16, 17\n",
            "Actores necesarios para grabar: 1, 2, 3, 4, 5, 6, 7, 10\n",
            "\n",
            "Día 4 --------------------------\n",
            "Tomas: 5, 8, 18, 19, 21, 23\n",
            "Actores necesarios para grabar: 1, 2, 3, 4, 6, 8\n",
            "\n",
            "Día 5 --------------------------\n",
            "Tomas: 9, 15, 24, 27, 28\n",
            "Actores necesarios para grabar: 1, 2, 3, 4, 5, 6, 7\n",
            "\n",
            "El coste total de la grabación es: 37\n"
          ]
        }
      ],
      "source": [
        "def planificar_doblaje(tabla_actores_np):\n",
        "    num_tomas = len(tabla_actores_np)\n",
        "    num_actores = len(tabla_actores_np[0])\n",
        "\n",
        "    # Inicializa la asignación de tomas a días\n",
        "    planificacion = {}\n",
        "\n",
        "    # Ordena las tomas por la cantidad de actores presentes\n",
        "    tomas_ordenadas = sorted(range(num_tomas), key=lambda x: -np.sum(tabla_actores_np[x]))\n",
        "\n",
        "    # Asigna las tomas a días en orden descendente de actores presentes\n",
        "    for toma in tomas_ordenadas:\n",
        "        asignada = False\n",
        "        for dia, tomas in planificacion.items():\n",
        "            if len(tomas) + 1 <= 6 and not any(tabla_actores_np[toma][actor] and actor + 1 in tomas for actor in range(num_actores)):\n",
        "                tomas.append(toma)\n",
        "                asignada = True\n",
        "                break\n",
        "        if not asignada:\n",
        "            planificacion[len(planificacion) + 1] = [toma]\n",
        "\n",
        "    # Calcula el coste total de los actores que van al estudio en todas las sesiones\n",
        "    coste_grabacion = sum(len(set([actor + 1 for toma in dia for actor in range(num_actores) \\\n",
        "                                   if tabla_actores_np[toma][actor] == 1])) for dia in planificacion.values())\n",
        "    print(\"~ ORGANIZACIÓN DE TOMAS POR DIAS ~\")\n",
        "    print(\"--------------------------------\")\n",
        "    for dia, tomas in planificacion.items():\n",
        "        print(f\"Día {dia} --------------------------\")\n",
        "        print(f\"Tomas: {', '.join(map(lambda x: str(x + 1), tomas))}\")\n",
        "        actores_presentes = set()\n",
        "        for toma in tomas:\n",
        "            actores_toma = [j + 1 for j in range(len(tabla_actores_np[toma])) if tabla_actores_np[toma][j] == 1]\n",
        "            actores_presentes.update(actores_toma)\n",
        "        print(f\"Actores necesarios para grabar: {', '.join(map(str, actores_presentes))}\")\n",
        "        print()\n",
        "\n",
        "    print(f\"El coste total de la grabación es: {coste_grabacion}\")\n",
        "    return planificacion, coste_grabacion\n",
        "\n",
        "tabla_actores_np = np.array(tabla_actores)\n",
        "planificacion, coste_grabacion = planificar_doblaje(tabla_actores_np)\n"
      ]
    },
    {
      "cell_type": "markdown",
      "metadata": {
        "id": "V2TWmWIsXCWh"
      },
      "source": [
        "#3º: Técnica voraz con componentes heurísticos:"
      ]
    },
    {
      "cell_type": "markdown",
      "metadata": {
        "id": "o5_cRsRArDdN"
      },
      "source": [
        "A continuación, se ha intentado incorporar distintos componentes heurísticos al código para mejorar la eficiencia y efectividad del algoritmo:\n",
        "\n",
        "- Ordenación de las tomas por suma de duración y cantidad de actores necesarios: Esto puede ayudar a priorizar las tomas que son más complejas y requieren más recursos, lo que podría conducir a una asignación más eficiente.\n",
        "\n",
        "- Asignación basada en la capacidad restante y la complejidad de las tomas: Esto implica calcular el coste de agregar una toma a un día en función de la cantidad de actores necesarios y los actores que ya están programados para ese día.\n"
      ]
    },
    {
      "cell_type": "code",
      "execution_count": 117,
      "metadata": {
        "colab": {
          "base_uri": "https://localhost:8080/",
          "height": 0
        },
        "id": "GNV7xTrgXEET",
        "outputId": "e8b3b708-09b5-4038-ac32-56ccfeb0198c"
      },
      "outputs": [
        {
          "name": "stdout",
          "output_type": "stream",
          "text": [
            "~ ORGANIZACIÓN DE TOMAS POR DIAS ~\n",
            "--------------------------------\n",
            "Día 1 --------------------------\n",
            "Tomas: 16, 17, 18, 19, 21, 23\n",
            "Actores necesarios para grabar: 1, 3, 4, 6, 8, 10\n",
            "\n",
            "Día 2 --------------------------\n",
            "Tomas: 24, 27, 28, 2, 3, 5\n",
            "Actores necesarios para grabar: 1, 2, 3, 4, 5, 6, 7, 8\n",
            "\n",
            "Día 3 --------------------------\n",
            "Tomas: 8, 9, 13, 14, 15, 29\n",
            "Actores necesarios para grabar: 1, 2, 3, 4, 5, 6, 7\n",
            "\n",
            "Día 4 --------------------------\n",
            "Tomas: 4, 6, 7, 10, 20, 22\n",
            "Actores necesarios para grabar: 1, 2, 3, 4, 5, 6, 7, 8, 9\n",
            "\n",
            "Día 5 --------------------------\n",
            "Tomas: 25, 26, 1, 11, 12\n",
            "Actores necesarios para grabar: 1, 2, 3, 4, 5, 6, 8, 9, 10\n",
            "\n",
            "El coste total de la grabación es: 39\n"
          ]
        }
      ],
      "source": [
        "def planificar_doblaje(tabla_actores_np):\n",
        "    num_tomas = len(tabla_actores_np)\n",
        "    num_actores = len(tabla_actores_np[0])\n",
        "\n",
        "    # Inicializa la asignación de tomas a días\n",
        "    planificacion = {}\n",
        "\n",
        "    # Ordena las tomas por la suma de la duración de las tomas y la cantidad de actores necesarios\n",
        "    tomas_ordenadas = sorted(range(num_tomas), key=lambda x: (np.sum(tabla_actores_np[x]), -np.sum(tabla_actores_np[x])))\n",
        "\n",
        "    # Asigna las tomas a días en función de la capacidad restante y la complejidad de las tomas\n",
        "    for toma in tomas_ordenadas:\n",
        "        asignada = False\n",
        "        min_coste = float('inf')\n",
        "        min_dia = None\n",
        "        for dia in planificacion:\n",
        "            if len(planificacion[dia]) + 1 <= 6:\n",
        "                # Calcula el coste de agregar la toma a este día\n",
        "                coste = sum(tabla_actores_np[toma][actor] for actor in range(num_actores)) + \\\n",
        "                len(set([actor + 1 for actor in range(num_actores) \\\n",
        "                         if tabla_actores_np[toma][actor] == 1]).difference(set([actor + 1 for toma in planificacion[dia] \\\n",
        "                                                  for actor in range(num_actores) if tabla_actores_np[toma][actor] == 1])))\n",
        "                if coste < min_coste:\n",
        "                    min_coste = coste\n",
        "                    min_dia = dia\n",
        "        if min_dia is not None:\n",
        "            if min_dia not in planificacion:\n",
        "                planificacion[min_dia] = []\n",
        "            planificacion[min_dia].append(toma)\n",
        "        else:\n",
        "            planificacion[len(planificacion) + 1] = [toma]\n",
        "\n",
        "    # Calcula el coste total de los actores que van al estudio en todas las sesiones\n",
        "    coste_grabacion = sum(len(set([actor + 1 for toma in planificacion[dia] for actor in range(num_actores) \\\n",
        "                                   if tabla_actores_np[toma][actor] == 1])) for dia in planificacion)\n",
        "    print(\"~ ORGANIZACIÓN DE TOMAS POR DIAS ~\")\n",
        "    print(\"--------------------------------\")\n",
        "    for dia in planificacion:\n",
        "        print(f\"Día {dia} --------------------------\")\n",
        "        print(f\"Tomas: {', '.join(str(toma + 1) for toma in planificacion[dia])}\")\n",
        "        actores_presentes = set()\n",
        "        for toma in planificacion[dia]:\n",
        "            actores_toma = [j + 1 for j in range(len(tabla_actores_np[toma])) if tabla_actores_np[toma][j] == 1]\n",
        "            actores_presentes.update(actores_toma)\n",
        "        print(f\"Actores necesarios para grabar: {', '.join(map(str, actores_presentes))}\")\n",
        "        print()\n",
        "\n",
        "    print(f\"El coste total de la grabación es: {coste_grabacion}\")\n",
        "    return planificacion, coste_grabacion\n",
        "\n",
        "\n",
        "# Ejemplo de uso:\n",
        "tabla_actores_np = np.array(tabla_actores)\n",
        "planificacion, coste_grabacion = planificar_doblaje(tabla_actores_np)\n"
      ]
    },
    {
      "cell_type": "markdown",
      "metadata": {
        "id": "EkeJ5hbfsWIk"
      },
      "source": [
        "Como se puede ver la introducción de estos componentes heurísticos no conlleva conseguir una mejor solución. Esto puede ser por la ordenación de las tomas, la exhaustividad de la búsqueda o la sensibilidad a los datos de entrada."
      ]
    },
    {
      "cell_type": "markdown",
      "metadata": {
        "id": "aSmsqqJjj3kb"
      },
      "source": [
        "#4º: Recocido Simulado"
      ]
    },
    {
      "cell_type": "markdown",
      "metadata": {
        "id": "U11X6uIAskfM"
      },
      "source": [
        "Como última opción, se va a comprobar si se pueden obetener mejores soluciones mediante el uso de ***recocido simulado***. A continuación se puede ver el código:"
      ]
    },
    {
      "cell_type": "code",
      "execution_count": 102,
      "metadata": {
        "id": "tg0nlQOSoq8b"
      },
      "outputs": [],
      "source": [
        "def asignar_grabaciones_aleatorias():\n",
        "    grabaciones = list(range(num_grabaciones))\n",
        "    random.shuffle(grabaciones)\n",
        "\n",
        "    dias = []\n",
        "    index = 0\n",
        "\n",
        "    while index < num_grabaciones:\n",
        "        dia = grabaciones[index:index+6]\n",
        "        dias.append(deepcopy(dia))\n",
        "        index += 6\n",
        "    return dias"
      ]
    },
    {
      "cell_type": "code",
      "execution_count": 103,
      "metadata": {
        "id": "DucKQxhdoq3b"
      },
      "outputs": [],
      "source": [
        "def probabilidad_aceptacion(gasto_actual, nuevo_gasto, temperatura):\n",
        "    if nuevo_gasto < gasto_actual:\n",
        "        # Si la nueva solución es mejor se acepta\n",
        "        return 1.0\n",
        "    # Calcular la probabilidad de aceptar una solución peor utilizando la fórmula del recocido simulado\n",
        "    return math.exp((gasto_actual - nuevo_gasto) / temperatura)"
      ]
    },
    {
      "cell_type": "code",
      "execution_count": 104,
      "metadata": {
        "id": "DPB-pEajoqyK"
      },
      "outputs": [],
      "source": [
        "def calcular_coste_total(asignacion, tabla_actores):\n",
        "    coste_total = 0\n",
        "\n",
        "    for dia in asignacion:\n",
        "        actores_presentes = obtener_actores_presentes(dia, tabla_actores)\n",
        "        cantidad_actores = len(actores_presentes)\n",
        "        coste_total += cantidad_actores\n",
        "\n",
        "    return coste_total"
      ]
    },
    {
      "cell_type": "code",
      "execution_count": 105,
      "metadata": {
        "id": "H9WkfLC5oqqT"
      },
      "outputs": [],
      "source": [
        "def obtener_actores_presentes(dia, tabla_actores):\n",
        "    actores_presentes = set()\n",
        "    for grabacion in dia:\n",
        "        for actor in range(1, num_actores + 1):\n",
        "            if tabla_actores[grabacion][actor - 1] == 1:\n",
        "                actores_presentes.add(actor)\n",
        "    return actores_presentes"
      ]
    },
    {
      "cell_type": "code",
      "execution_count": 106,
      "metadata": {
        "id": "bi_q9N3AowIS"
      },
      "outputs": [],
      "source": [
        "def generar_vecino(asignacion):\n",
        "    vecino = deepcopy(asignacion)\n",
        "\n",
        "    # Elige dos días aleatorios para el intercambio\n",
        "    dia1 = random.randint(0, len(asignacion) - 1)\n",
        "    dia2 = random.randint(0, len(asignacion) - 1)\n",
        "\n",
        "    if dia1 != dia2:\n",
        "        # Elige una grabación aleatoria en cada día para el intercambio\n",
        "        grabacion1 = random.choice(vecino[dia1])\n",
        "        grabacion2 = random.choice(vecino[dia2])\n",
        "\n",
        "        # Realiza el intercambio de las grabaciones entre los días\n",
        "        vecino[dia1].remove(grabacion1)\n",
        "        vecino[dia2].remove(grabacion2)\n",
        "        vecino[dia1].append(grabacion2)\n",
        "        vecino[dia2].append(grabacion1)\n",
        "    return vecino"
      ]
    },
    {
      "cell_type": "code",
      "execution_count": 107,
      "metadata": {
        "id": "KonAYTqRowCr"
      },
      "outputs": [],
      "source": [
        "def recocido_simulado(temperatura_inicial, temperatura_final, factor_enfriamiento, iteraciones_por_temperatura, tabla_actores):\n",
        "    # Generar una asignación inicial aleatoria\n",
        "    asignacion_actual = asignar_grabaciones_aleatorias()\n",
        "\n",
        "    coste_actual = calcular_coste_total(asignacion_actual, tabla_actores)\n",
        "\n",
        "    mejor_asignacion = asignacion_actual\n",
        "    mejor_coste = coste_actual\n",
        "\n",
        "    temperatura = temperatura_inicial\n",
        "\n",
        "    while temperatura > temperatura_final:\n",
        "        for _ in range(iteraciones_por_temperatura):\n",
        "            nueva_asignacion = generar_vecino(asignacion_actual)\n",
        "            nuevo_coste = calcular_coste_total(nueva_asignacion, tabla_actores)\n",
        "\n",
        "            # Verificar si se acepta la asignación vecina utilizando la probabilidad de aceptación\n",
        "            if probabilidad_aceptacion(coste_actual, nuevo_coste, temperatura) > random.random():\n",
        "\n",
        "                asignacion_actual = nueva_asignacion\n",
        "                coste_actual = nuevo_coste\n",
        "\n",
        "            # Verificar si la nueva asignación tiene un mejor coste que la mejor asignación encontrada hasta el momento\n",
        "            if nuevo_coste < mejor_coste:\n",
        "                mejor_asignacion = nueva_asignacion\n",
        "                mejor_coste = nuevo_coste\n",
        "\n",
        "        # Enfriar la temperatura multiplicándola por el factor de enfriamiento\n",
        "        temperatura *= factor_enfriamiento\n",
        "\n",
        "    return mejor_asignacion"
      ]
    },
    {
      "cell_type": "code",
      "execution_count": 112,
      "metadata": {
        "colab": {
          "base_uri": "https://localhost:8080/",
          "height": 0
        },
        "id": "1lqSKIZ2oWgD",
        "outputId": "21b53172-8276-4d1c-a969-7b98a8ff9f6d"
      },
      "outputs": [
        {
          "name": "stdout",
          "output_type": "stream",
          "text": [
            "~ ORGANIZACIÓN DE TOMAS POR DIAS ~\n",
            "--------------------------------\n",
            "Día 1 --------------------------\n",
            "Grabaciones: 6, 22, 2, 20, 1, 12\n",
            "Actores necesarios para grabar: 1, 2, 3, 4, 5, 6\n",
            "Día 2 --------------------------\n",
            "Grabaciones: 4, 15, 3, 5, 28, 27\n",
            "Actores necesarios para grabar: 1, 2, 4, 5, 7, 8\n",
            "Día 3 --------------------------\n",
            "Grabaciones: 14, 24, 18, 17, 23, 19\n",
            "Actores necesarios para grabar: 1, 3, 6\n",
            "Día 4 --------------------------\n",
            "Grabaciones: 26, 10, 8, 11, 21, 29\n",
            "Actores necesarios para grabar: 1, 2, 3, 5, 6, 8, 9\n",
            "Día 5 --------------------------\n",
            "Grabaciones: 25, 16, 7, 13, 9\n",
            "Actores necesarios para grabar: 1, 2, 4, 5, 10\n",
            "\n",
            "El coste total de la grabación es: 27\n"
          ]
        }
      ],
      "source": [
        "# Parámetros iniciales del algoritmo\n",
        "temperatura_inicial = 10000\n",
        "temperatura_final = 0.0000000000001\n",
        "factor_enfriamiento = 0.3\n",
        "iteraciones_por_temperatura = 10000\n",
        "\n",
        "num_grabaciones = len(tabla_actores_np)\n",
        "num_actores = len(tabla_actores_np[0])\n",
        "\n",
        "dias_grabacion = recocido_simulado(temperatura_inicial, temperatura_final, factor_enfriamiento, iteraciones_por_temperatura, tabla_actores)\n",
        "\n",
        "coste_total = calcular_coste_total(dias_grabacion, tabla_actores)\n",
        "\n",
        "print(\"~ ORGANIZACIÓN DE TOMAS POR DIAS ~\")\n",
        "print(\"--------------------------------\")\n",
        "\n",
        "for i, dia in enumerate(dias_grabacion):\n",
        "    actores_presentes = obtener_actores_presentes(dia, tabla_actores)\n",
        "\n",
        "    if dia and actores_presentes:\n",
        "        print(f\"Día {i + 1} --------------------------\\nGrabaciones: {', '.join(map(str, [grabacion + 1 for grabacion in dia]))}\")\n",
        "        print(f\"Actores necesarios para grabar: {', '.join(map(str, actores_presentes))}\")\n",
        "\n",
        "print(f\"\\nEl coste total de la grabación es: {coste_total}\")"
      ]
    },
    {
      "cell_type": "markdown",
      "metadata": {
        "id": "E8kymd8CvqnU"
      },
      "source": [
        "Como se puede observar, mediante recocido simulado si que se obtiene una mejor solución al problema. Esto puede ser por diversos factores como:\n",
        "\n",
        "- Adaptabilidad a diferentes problemas: El recocido simulado es una técnica general que se puede aplicar a una amplia variedad de problemas de optimización combinatoria.\n",
        "\n",
        "- Flexibilidad del algoritmo de recocido simulado: Su flexibilidad permite explorar un amplio espacio de soluciones, lo que puede conducir a la identificación de soluciones de menor coste que otros métodos más deterministas.\n",
        "\n",
        "- Capacidad para escapar de mínimos locales: El recocido simulado tiene la capacidad de escapar de estos mínimos locales mediante la aceptación de soluciones peores con cierta probabilidad. Esto permite explorar de manera más efectiva el espacio de búsqueda en busca de soluciones de menor coste.\n",
        "\n"
      ]
    }
  ],
  "metadata": {
    "colab": {
      "provenance": []
    },
    "kernelspec": {
      "display_name": "Python 3",
      "name": "python3"
    }
  },
  "nbformat": 4,
  "nbformat_minor": 0
}
