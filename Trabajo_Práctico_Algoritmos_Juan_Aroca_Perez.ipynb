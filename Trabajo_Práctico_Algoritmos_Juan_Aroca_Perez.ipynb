{
  "nbformat": 4,
  "nbformat_minor": 0,
  "metadata": {
    "colab": {
      "provenance": [],
      "include_colab_link": true
    },
    "kernelspec": {
      "name": "python3",
      "display_name": "Python 3"
    }
  },
  "cells": [
    {
      "cell_type": "markdown",
      "metadata": {
        "id": "view-in-github",
        "colab_type": "text"
      },
      "source": [
        "<a href=\"https://colab.research.google.com/github/JuanArocaMIAR/03MIAR---Algoritmos-de-Optimizacion---2023/blob/main/Trabajo_Pr%C3%A1ctico_Algoritmos_Juan_Aroca_Perez.ipynb\" target=\"_parent\"><img src=\"https://colab.research.google.com/assets/colab-badge.svg\" alt=\"Open In Colab\"/></a>"
      ]
    },
    {
      "cell_type": "markdown",
      "metadata": {
        "id": "hVbXYX-RfPWh"
      },
      "source": [
        "# Algoritmos de optimización - Trabajo Práctico<br>\n",
        "Nombre y Apellidos: Juan Aroca Pérez  <br>\n",
        "Url: https://github.com/JuanArocaMIAR/03MIAR---Algoritmos-de-Optimizacion---2023.git<br>\n",
        "Google Colab: https://colab.research.google.com/drive/xxxxxxxxxxxxxxxx <br>\n",
        "Problema:\n",
        ">1. Sesiones de doblaje <br>\n",
        "\n",
        "Descripción del problema: \"Se precisa coordinar el doblaje de una película. Los actores del doblaje deben coincidir en las tomas en las que sus personajes aparecen juntos en las diferentes tomas. Los actores de doblaje cobran todos la misma cantidad por cada día que deben desplazarse hasta el estudio de grabación independientemente del número de tomas que se graben. No es posible grabar más de 6 tomas por día. El objetivo es planificar las sesiones por día de manera que el gasto por los servicios de los actores de doblaje sea el menor posible. \"\n",
        "\n",
        "\n",
        "\n",
        "\n",
        "\n",
        "\n",
        "\n",
        "                                        "
      ]
    },
    {
      "cell_type": "markdown",
      "source": [
        "#Modelo\n",
        "- ¿Como represento el espacio de soluciones?\n",
        "- ¿Cual es la función objetivo?\n",
        "- ¿Como implemento las restricciones?"
      ],
      "metadata": {
        "id": "Sbo9IqQtpaHZ"
      }
    },
    {
      "cell_type": "markdown",
      "source": [],
      "metadata": {
        "id": "67p_vszBposu"
      }
    },
    {
      "cell_type": "code",
      "source": [
        "# Importar librerías necesarias:\n",
        "\n",
        "import numpy as np\n",
        "import pandas as pd\n",
        "from google.colab import files"
      ],
      "metadata": {
        "id": "qUh5WvjmEFsb"
      },
      "execution_count": 25,
      "outputs": []
    },
    {
      "cell_type": "code",
      "metadata": {
        "id": "AiskKkzZfy4e",
        "outputId": "c76d0ef8-5e34-41d6-b6e8-5d41cfd52224",
        "colab": {
          "base_uri": "https://localhost:8080/",
          "height": 73
        }
      },
      "source": [
        "# Carga del dataset con la información\n",
        "archivo_subido = files.upload()\n",
        "archivo_xlsx = list(archivo_subido.keys())[0]\n",
        "dataframe_actores = pd.read_excel(archivo_xlsx)"
      ],
      "execution_count": 105,
      "outputs": [
        {
          "output_type": "display_data",
          "data": {
            "text/plain": [
              "<IPython.core.display.HTML object>"
            ],
            "text/html": [
              "\n",
              "     <input type=\"file\" id=\"files-a6abcf7d-5efb-44a1-a48b-671f0bbf1286\" name=\"files[]\" multiple disabled\n",
              "        style=\"border:none\" />\n",
              "     <output id=\"result-a6abcf7d-5efb-44a1-a48b-671f0bbf1286\">\n",
              "      Upload widget is only available when the cell has been executed in the\n",
              "      current browser session. Please rerun this cell to enable.\n",
              "      </output>\n",
              "      <script>// Copyright 2017 Google LLC\n",
              "//\n",
              "// Licensed under the Apache License, Version 2.0 (the \"License\");\n",
              "// you may not use this file except in compliance with the License.\n",
              "// You may obtain a copy of the License at\n",
              "//\n",
              "//      http://www.apache.org/licenses/LICENSE-2.0\n",
              "//\n",
              "// Unless required by applicable law or agreed to in writing, software\n",
              "// distributed under the License is distributed on an \"AS IS\" BASIS,\n",
              "// WITHOUT WARRANTIES OR CONDITIONS OF ANY KIND, either express or implied.\n",
              "// See the License for the specific language governing permissions and\n",
              "// limitations under the License.\n",
              "\n",
              "/**\n",
              " * @fileoverview Helpers for google.colab Python module.\n",
              " */\n",
              "(function(scope) {\n",
              "function span(text, styleAttributes = {}) {\n",
              "  const element = document.createElement('span');\n",
              "  element.textContent = text;\n",
              "  for (const key of Object.keys(styleAttributes)) {\n",
              "    element.style[key] = styleAttributes[key];\n",
              "  }\n",
              "  return element;\n",
              "}\n",
              "\n",
              "// Max number of bytes which will be uploaded at a time.\n",
              "const MAX_PAYLOAD_SIZE = 100 * 1024;\n",
              "\n",
              "function _uploadFiles(inputId, outputId) {\n",
              "  const steps = uploadFilesStep(inputId, outputId);\n",
              "  const outputElement = document.getElementById(outputId);\n",
              "  // Cache steps on the outputElement to make it available for the next call\n",
              "  // to uploadFilesContinue from Python.\n",
              "  outputElement.steps = steps;\n",
              "\n",
              "  return _uploadFilesContinue(outputId);\n",
              "}\n",
              "\n",
              "// This is roughly an async generator (not supported in the browser yet),\n",
              "// where there are multiple asynchronous steps and the Python side is going\n",
              "// to poll for completion of each step.\n",
              "// This uses a Promise to block the python side on completion of each step,\n",
              "// then passes the result of the previous step as the input to the next step.\n",
              "function _uploadFilesContinue(outputId) {\n",
              "  const outputElement = document.getElementById(outputId);\n",
              "  const steps = outputElement.steps;\n",
              "\n",
              "  const next = steps.next(outputElement.lastPromiseValue);\n",
              "  return Promise.resolve(next.value.promise).then((value) => {\n",
              "    // Cache the last promise value to make it available to the next\n",
              "    // step of the generator.\n",
              "    outputElement.lastPromiseValue = value;\n",
              "    return next.value.response;\n",
              "  });\n",
              "}\n",
              "\n",
              "/**\n",
              " * Generator function which is called between each async step of the upload\n",
              " * process.\n",
              " * @param {string} inputId Element ID of the input file picker element.\n",
              " * @param {string} outputId Element ID of the output display.\n",
              " * @return {!Iterable<!Object>} Iterable of next steps.\n",
              " */\n",
              "function* uploadFilesStep(inputId, outputId) {\n",
              "  const inputElement = document.getElementById(inputId);\n",
              "  inputElement.disabled = false;\n",
              "\n",
              "  const outputElement = document.getElementById(outputId);\n",
              "  outputElement.innerHTML = '';\n",
              "\n",
              "  const pickedPromise = new Promise((resolve) => {\n",
              "    inputElement.addEventListener('change', (e) => {\n",
              "      resolve(e.target.files);\n",
              "    });\n",
              "  });\n",
              "\n",
              "  const cancel = document.createElement('button');\n",
              "  inputElement.parentElement.appendChild(cancel);\n",
              "  cancel.textContent = 'Cancel upload';\n",
              "  const cancelPromise = new Promise((resolve) => {\n",
              "    cancel.onclick = () => {\n",
              "      resolve(null);\n",
              "    };\n",
              "  });\n",
              "\n",
              "  // Wait for the user to pick the files.\n",
              "  const files = yield {\n",
              "    promise: Promise.race([pickedPromise, cancelPromise]),\n",
              "    response: {\n",
              "      action: 'starting',\n",
              "    }\n",
              "  };\n",
              "\n",
              "  cancel.remove();\n",
              "\n",
              "  // Disable the input element since further picks are not allowed.\n",
              "  inputElement.disabled = true;\n",
              "\n",
              "  if (!files) {\n",
              "    return {\n",
              "      response: {\n",
              "        action: 'complete',\n",
              "      }\n",
              "    };\n",
              "  }\n",
              "\n",
              "  for (const file of files) {\n",
              "    const li = document.createElement('li');\n",
              "    li.append(span(file.name, {fontWeight: 'bold'}));\n",
              "    li.append(span(\n",
              "        `(${file.type || 'n/a'}) - ${file.size} bytes, ` +\n",
              "        `last modified: ${\n",
              "            file.lastModifiedDate ? file.lastModifiedDate.toLocaleDateString() :\n",
              "                                    'n/a'} - `));\n",
              "    const percent = span('0% done');\n",
              "    li.appendChild(percent);\n",
              "\n",
              "    outputElement.appendChild(li);\n",
              "\n",
              "    const fileDataPromise = new Promise((resolve) => {\n",
              "      const reader = new FileReader();\n",
              "      reader.onload = (e) => {\n",
              "        resolve(e.target.result);\n",
              "      };\n",
              "      reader.readAsArrayBuffer(file);\n",
              "    });\n",
              "    // Wait for the data to be ready.\n",
              "    let fileData = yield {\n",
              "      promise: fileDataPromise,\n",
              "      response: {\n",
              "        action: 'continue',\n",
              "      }\n",
              "    };\n",
              "\n",
              "    // Use a chunked sending to avoid message size limits. See b/62115660.\n",
              "    let position = 0;\n",
              "    do {\n",
              "      const length = Math.min(fileData.byteLength - position, MAX_PAYLOAD_SIZE);\n",
              "      const chunk = new Uint8Array(fileData, position, length);\n",
              "      position += length;\n",
              "\n",
              "      const base64 = btoa(String.fromCharCode.apply(null, chunk));\n",
              "      yield {\n",
              "        response: {\n",
              "          action: 'append',\n",
              "          file: file.name,\n",
              "          data: base64,\n",
              "        },\n",
              "      };\n",
              "\n",
              "      let percentDone = fileData.byteLength === 0 ?\n",
              "          100 :\n",
              "          Math.round((position / fileData.byteLength) * 100);\n",
              "      percent.textContent = `${percentDone}% done`;\n",
              "\n",
              "    } while (position < fileData.byteLength);\n",
              "  }\n",
              "\n",
              "  // All done.\n",
              "  yield {\n",
              "    response: {\n",
              "      action: 'complete',\n",
              "    }\n",
              "  };\n",
              "}\n",
              "\n",
              "scope.google = scope.google || {};\n",
              "scope.google.colab = scope.google.colab || {};\n",
              "scope.google.colab._files = {\n",
              "  _uploadFiles,\n",
              "  _uploadFilesContinue,\n",
              "};\n",
              "})(self);\n",
              "</script> "
            ]
          },
          "metadata": {}
        },
        {
          "output_type": "stream",
          "name": "stdout",
          "text": [
            "Saving Datos problema doblaje(30 tomas, 10 actores).xlsx to Datos problema doblaje(30 tomas, 10 actores) (27).xlsx\n"
          ]
        }
      ]
    },
    {
      "cell_type": "code",
      "source": [
        "# Tratamiento del dataframe para dejarlo óptimo para su uso\n",
        "\n",
        "# Eliminar filas y columnas vacias provenientes del EXCEL\n",
        "dataframe_actores = dataframe_actores.dropna(axis=1, how='all')\n",
        "dataframe_actores = dataframe_actores.dropna(how='all')\n",
        "\n",
        "# Eliminar la primera fila ya que no aporta nada\n",
        "dataframe_actores = dataframe_actores.drop(dataframe_actores.index[0])\n",
        "\n",
        "# Modificar el nombre de las columnas para mayor claridad\n",
        "columnas_actuales = dataframe_actores.columns\n",
        "nuevos_nombres = ['Toma'] + ['Actor {}'.format(i) for i in range(1, len(columnas_actuales)-1)] + ['Total']\n",
        "dataframe_actores.columns = nuevos_nombres\n",
        "\n",
        "print(dataframe_actores)"
      ],
      "metadata": {
        "colab": {
          "base_uri": "https://localhost:8080/"
        },
        "id": "LRq3rOvWQea6",
        "outputId": "9ea817aa-5a94-48d4-e123-659627e3e424"
      },
      "execution_count": 106,
      "outputs": [
        {
          "output_type": "stream",
          "name": "stdout",
          "text": [
            "     Toma  Actor 1  Actor 2  Actor 3  Actor 4  Actor 5  Actor 6  Actor 7  \\\n",
            "1       1      1.0      1.0      1.0      1.0      1.0      0.0      0.0   \n",
            "2       2      0.0      0.0      1.0      1.0      1.0      0.0      0.0   \n",
            "3       3      0.0      1.0      0.0      0.0      1.0      0.0      1.0   \n",
            "4       4      1.0      1.0      0.0      0.0      0.0      0.0      1.0   \n",
            "5       5      0.0      1.0      0.0      1.0      0.0      0.0      0.0   \n",
            "6       6      1.0      1.0      0.0      1.0      1.0      0.0      0.0   \n",
            "7       7      1.0      1.0      0.0      1.0      1.0      0.0      0.0   \n",
            "8       8      1.0      1.0      0.0      0.0      0.0      1.0      0.0   \n",
            "9       9      1.0      1.0      0.0      1.0      0.0      0.0      0.0   \n",
            "10     10      1.0      1.0      0.0      0.0      0.0      1.0      0.0   \n",
            "11     11      1.0      1.0      1.0      0.0      1.0      0.0      0.0   \n",
            "12     12      1.0      1.0      1.0      1.0      0.0      1.0      0.0   \n",
            "13     13      1.0      0.0      0.0      1.0      1.0      0.0      0.0   \n",
            "14     14      1.0      0.0      1.0      0.0      0.0      1.0      0.0   \n",
            "15     15      1.0      1.0      0.0      0.0      0.0      0.0      1.0   \n",
            "16     16      0.0      0.0      0.0      1.0      0.0      0.0      0.0   \n",
            "17     17      1.0      0.0      1.0      0.0      0.0      0.0      0.0   \n",
            "18     18      0.0      0.0      1.0      0.0      0.0      1.0      0.0   \n",
            "19     19      1.0      0.0      1.0      0.0      0.0      0.0      0.0   \n",
            "20     20      1.0      0.0      1.0      1.0      1.0      0.0      0.0   \n",
            "21     21      0.0      0.0      0.0      0.0      0.0      1.0      0.0   \n",
            "22     22      1.0      1.0      1.0      1.0      0.0      0.0      0.0   \n",
            "23     23      1.0      0.0      1.0      0.0      0.0      0.0      0.0   \n",
            "24     24      0.0      0.0      1.0      0.0      0.0      1.0      0.0   \n",
            "25     25      1.0      1.0      0.0      1.0      0.0      0.0      0.0   \n",
            "26     26      1.0      0.0      1.0      0.0      1.0      0.0      0.0   \n",
            "27     27      0.0      0.0      0.0      1.0      1.0      0.0      0.0   \n",
            "28     28      1.0      0.0      0.0      1.0      0.0      0.0      0.0   \n",
            "29     29      1.0      0.0      0.0      0.0      1.0      1.0      0.0   \n",
            "30     30      1.0      0.0      0.0      1.0      0.0      0.0      0.0   \n",
            "32  TOTAL     22.0     14.0     13.0     15.0     11.0      8.0      3.0   \n",
            "\n",
            "    Actor 8  Actor 9  Actor 10 Total  \n",
            "1       0.0      0.0       0.0     5  \n",
            "2       0.0      0.0       0.0     3  \n",
            "3       0.0      0.0       0.0     3  \n",
            "4       1.0      0.0       0.0     4  \n",
            "5       1.0      0.0       0.0     3  \n",
            "6       0.0      0.0       0.0     4  \n",
            "7       0.0      0.0       0.0     4  \n",
            "8       0.0      0.0       0.0     3  \n",
            "9       0.0      0.0       0.0     3  \n",
            "10      0.0      1.0       0.0     4  \n",
            "11      1.0      0.0       0.0     5  \n",
            "12      0.0      0.0       0.0     5  \n",
            "13      0.0      0.0       0.0     3  \n",
            "14      0.0      0.0       0.0     3  \n",
            "15      0.0      0.0       0.0     3  \n",
            "16      0.0      0.0       1.0     2  \n",
            "17      0.0      0.0       0.0     2  \n",
            "18      0.0      0.0       0.0     2  \n",
            "19      0.0      0.0       0.0     2  \n",
            "20      0.0      0.0       0.0     4  \n",
            "21      1.0      0.0       0.0     2  \n",
            "22      0.0      0.0       0.0     4  \n",
            "23      0.0      0.0       0.0     2  \n",
            "24      0.0      0.0       0.0     2  \n",
            "25      0.0      0.0       1.0     4  \n",
            "26      0.0      1.0       0.0     4  \n",
            "27      0.0      0.0       0.0     2  \n",
            "28      0.0      0.0       0.0     2  \n",
            "29      0.0      0.0       0.0     3  \n",
            "30      0.0      0.0       0.0     2  \n",
            "32      4.0      2.0       2.0   NaN  \n"
          ]
        }
      ]
    },
    {
      "cell_type": "code",
      "source": [
        "# Reseteo de índices para que empiecen en 0\n",
        "dataframe_actores.reset_index(drop=True, inplace=True)\n",
        "dataframe_actores.index = range(1, len(dataframe_actores) + 1)\n",
        "\n",
        "# Mostrar el DataFrame con los nuevos índices\n",
        "print(dataframe_actores)"
      ],
      "metadata": {
        "colab": {
          "base_uri": "https://localhost:8080/"
        },
        "id": "t4HFKG1na1xg",
        "outputId": "aaef92f8-10b2-4712-b20d-1682e014e37e"
      },
      "execution_count": 107,
      "outputs": [
        {
          "output_type": "stream",
          "name": "stdout",
          "text": [
            "     Toma  Actor 1  Actor 2  Actor 3  Actor 4  Actor 5  Actor 6  Actor 7  \\\n",
            "1       1      1.0      1.0      1.0      1.0      1.0      0.0      0.0   \n",
            "2       2      0.0      0.0      1.0      1.0      1.0      0.0      0.0   \n",
            "3       3      0.0      1.0      0.0      0.0      1.0      0.0      1.0   \n",
            "4       4      1.0      1.0      0.0      0.0      0.0      0.0      1.0   \n",
            "5       5      0.0      1.0      0.0      1.0      0.0      0.0      0.0   \n",
            "6       6      1.0      1.0      0.0      1.0      1.0      0.0      0.0   \n",
            "7       7      1.0      1.0      0.0      1.0      1.0      0.0      0.0   \n",
            "8       8      1.0      1.0      0.0      0.0      0.0      1.0      0.0   \n",
            "9       9      1.0      1.0      0.0      1.0      0.0      0.0      0.0   \n",
            "10     10      1.0      1.0      0.0      0.0      0.0      1.0      0.0   \n",
            "11     11      1.0      1.0      1.0      0.0      1.0      0.0      0.0   \n",
            "12     12      1.0      1.0      1.0      1.0      0.0      1.0      0.0   \n",
            "13     13      1.0      0.0      0.0      1.0      1.0      0.0      0.0   \n",
            "14     14      1.0      0.0      1.0      0.0      0.0      1.0      0.0   \n",
            "15     15      1.0      1.0      0.0      0.0      0.0      0.0      1.0   \n",
            "16     16      0.0      0.0      0.0      1.0      0.0      0.0      0.0   \n",
            "17     17      1.0      0.0      1.0      0.0      0.0      0.0      0.0   \n",
            "18     18      0.0      0.0      1.0      0.0      0.0      1.0      0.0   \n",
            "19     19      1.0      0.0      1.0      0.0      0.0      0.0      0.0   \n",
            "20     20      1.0      0.0      1.0      1.0      1.0      0.0      0.0   \n",
            "21     21      0.0      0.0      0.0      0.0      0.0      1.0      0.0   \n",
            "22     22      1.0      1.0      1.0      1.0      0.0      0.0      0.0   \n",
            "23     23      1.0      0.0      1.0      0.0      0.0      0.0      0.0   \n",
            "24     24      0.0      0.0      1.0      0.0      0.0      1.0      0.0   \n",
            "25     25      1.0      1.0      0.0      1.0      0.0      0.0      0.0   \n",
            "26     26      1.0      0.0      1.0      0.0      1.0      0.0      0.0   \n",
            "27     27      0.0      0.0      0.0      1.0      1.0      0.0      0.0   \n",
            "28     28      1.0      0.0      0.0      1.0      0.0      0.0      0.0   \n",
            "29     29      1.0      0.0      0.0      0.0      1.0      1.0      0.0   \n",
            "30     30      1.0      0.0      0.0      1.0      0.0      0.0      0.0   \n",
            "31  TOTAL     22.0     14.0     13.0     15.0     11.0      8.0      3.0   \n",
            "\n",
            "    Actor 8  Actor 9  Actor 10 Total  \n",
            "1       0.0      0.0       0.0     5  \n",
            "2       0.0      0.0       0.0     3  \n",
            "3       0.0      0.0       0.0     3  \n",
            "4       1.0      0.0       0.0     4  \n",
            "5       1.0      0.0       0.0     3  \n",
            "6       0.0      0.0       0.0     4  \n",
            "7       0.0      0.0       0.0     4  \n",
            "8       0.0      0.0       0.0     3  \n",
            "9       0.0      0.0       0.0     3  \n",
            "10      0.0      1.0       0.0     4  \n",
            "11      1.0      0.0       0.0     5  \n",
            "12      0.0      0.0       0.0     5  \n",
            "13      0.0      0.0       0.0     3  \n",
            "14      0.0      0.0       0.0     3  \n",
            "15      0.0      0.0       0.0     3  \n",
            "16      0.0      0.0       1.0     2  \n",
            "17      0.0      0.0       0.0     2  \n",
            "18      0.0      0.0       0.0     2  \n",
            "19      0.0      0.0       0.0     2  \n",
            "20      0.0      0.0       0.0     4  \n",
            "21      1.0      0.0       0.0     2  \n",
            "22      0.0      0.0       0.0     4  \n",
            "23      0.0      0.0       0.0     2  \n",
            "24      0.0      0.0       0.0     2  \n",
            "25      0.0      0.0       1.0     4  \n",
            "26      0.0      1.0       0.0     4  \n",
            "27      0.0      0.0       0.0     2  \n",
            "28      0.0      0.0       0.0     2  \n",
            "29      0.0      0.0       0.0     3  \n",
            "30      0.0      0.0       0.0     2  \n",
            "31      4.0      2.0       2.0   NaN  \n"
          ]
        }
      ]
    },
    {
      "cell_type": "code",
      "source": [
        "def crear_hijos(nodo_actual, dimension):\n",
        "    hijos = []\n",
        "    for i in range(dimension):\n",
        "        if i not in nodo_actual:\n",
        "            hijos.append({'s': nodo_actual + (i,)})\n",
        "    return hijos\n",
        "\n",
        "def cota_inferior(nodo_actual, costes):\n",
        "    # Convertir las tuplas de índices en una lista de enteros\n",
        "    indices = list(nodo_actual)\n",
        "    # Acceder a los datos del DataFrame utilizando loc y los índices convertidos\n",
        "    return costes.loc[indices, indices].sum().sum()\n",
        "\n",
        "def ramificacion_y_poda(costes):\n",
        "    dimension = len(costes)\n",
        "    mejor_solucion = tuple(i for i in range(dimension))\n",
        "    cota_superior = cota_inferior(mejor_solucion, costes)\n",
        "\n",
        "    nodos = []\n",
        "    nodos.append({'s': (), 'ci': cota_inferior((), costes)})\n",
        "\n",
        "    iteracion = 0\n",
        "\n",
        "    while len(nodos) > 0:\n",
        "        iteracion += 1\n",
        "        nodo_prometedor = min(nodos, key=lambda x: x['ci'])['s']\n",
        "\n",
        "        hijos = [{'s': x['s'] + (i,), 'cota_inferior': cota_inferior(x['s'] + (i,), costes)} for i in range(dimension) if i not in nodo_prometedor]\n",
        "\n",
        "        nodo_final = [x for x in hijos if len(x['s']) == dimension]\n",
        "        if len(nodo_final) > 0:\n",
        "            if nodo_final[0]['ci'] < cota_superior:\n",
        "                cota_superior = nodo_final[0]['cota_inferior']\n",
        "                mejor_solucion = nodo_final[0]['s']\n",
        "\n",
        "        hijos = [x for x in hijos if x['ci'] < cota_superior]\n",
        "\n",
        "        nodos.extend(hijos)\n",
        "        nodos = [x for x in nodos if x['s'][:-1] != nodo_prometedor]\n",
        "\n",
        "    print(\"La solución final es:\", mejor_solucion, \"en\", iteracion, \"iteraciones\", \"para dimension:\", dimension)\n",
        "\n",
        "# Llamar a la función ramificacion_y_poda con el DataFrame\n",
        "ramificacion_y_poda(dataframe_actores)\n"
      ],
      "metadata": {
        "colab": {
          "base_uri": "https://localhost:8080/",
          "height": 321
        },
        "id": "D79hDKU3T1eB",
        "outputId": "81168c42-af2a-4cf9-b7c1-e9242c8f6b0e"
      },
      "execution_count": 114,
      "outputs": [
        {
          "output_type": "error",
          "ename": "KeyError",
          "evalue": "'[0] not in index'",
          "traceback": [
            "\u001b[0;31m---------------------------------------------------------------------------\u001b[0m",
            "\u001b[0;31mKeyError\u001b[0m                                  Traceback (most recent call last)",
            "\u001b[0;32m<ipython-input-114-df9fe37a328a>\u001b[0m in \u001b[0;36m<cell line: 44>\u001b[0;34m()\u001b[0m\n\u001b[1;32m     42\u001b[0m \u001b[0;34m\u001b[0m\u001b[0m\n\u001b[1;32m     43\u001b[0m \u001b[0;31m# Llamar a la función ramificacion_y_poda con el DataFrame\u001b[0m\u001b[0;34m\u001b[0m\u001b[0;34m\u001b[0m\u001b[0m\n\u001b[0;32m---> 44\u001b[0;31m \u001b[0mramificacion_y_poda\u001b[0m\u001b[0;34m(\u001b[0m\u001b[0mdataframe_actores\u001b[0m\u001b[0;34m)\u001b[0m\u001b[0;34m\u001b[0m\u001b[0;34m\u001b[0m\u001b[0m\n\u001b[0m",
            "\u001b[0;32m<ipython-input-114-df9fe37a328a>\u001b[0m in \u001b[0;36mramificacion_y_poda\u001b[0;34m(costes)\u001b[0m\n\u001b[1;32m     15\u001b[0m     \u001b[0mdimension\u001b[0m \u001b[0;34m=\u001b[0m \u001b[0mlen\u001b[0m\u001b[0;34m(\u001b[0m\u001b[0mcostes\u001b[0m\u001b[0;34m)\u001b[0m\u001b[0;34m\u001b[0m\u001b[0;34m\u001b[0m\u001b[0m\n\u001b[1;32m     16\u001b[0m     \u001b[0mmejor_solucion\u001b[0m \u001b[0;34m=\u001b[0m \u001b[0mtuple\u001b[0m\u001b[0;34m(\u001b[0m\u001b[0mi\u001b[0m \u001b[0;32mfor\u001b[0m \u001b[0mi\u001b[0m \u001b[0;32min\u001b[0m \u001b[0mrange\u001b[0m\u001b[0;34m(\u001b[0m\u001b[0mdimension\u001b[0m\u001b[0;34m)\u001b[0m\u001b[0;34m)\u001b[0m\u001b[0;34m\u001b[0m\u001b[0;34m\u001b[0m\u001b[0m\n\u001b[0;32m---> 17\u001b[0;31m     \u001b[0mcota_superior\u001b[0m \u001b[0;34m=\u001b[0m \u001b[0mcota_inferior\u001b[0m\u001b[0;34m(\u001b[0m\u001b[0mmejor_solucion\u001b[0m\u001b[0;34m,\u001b[0m \u001b[0mcostes\u001b[0m\u001b[0;34m)\u001b[0m\u001b[0;34m\u001b[0m\u001b[0;34m\u001b[0m\u001b[0m\n\u001b[0m\u001b[1;32m     18\u001b[0m \u001b[0;34m\u001b[0m\u001b[0m\n\u001b[1;32m     19\u001b[0m     \u001b[0mnodos\u001b[0m \u001b[0;34m=\u001b[0m \u001b[0;34m[\u001b[0m\u001b[0;34m]\u001b[0m\u001b[0;34m\u001b[0m\u001b[0;34m\u001b[0m\u001b[0m\n",
            "\u001b[0;32m<ipython-input-114-df9fe37a328a>\u001b[0m in \u001b[0;36mcota_inferior\u001b[0;34m(nodo_actual, costes)\u001b[0m\n\u001b[1;32m     10\u001b[0m     \u001b[0mindices\u001b[0m \u001b[0;34m=\u001b[0m \u001b[0mlist\u001b[0m\u001b[0;34m(\u001b[0m\u001b[0mnodo_actual\u001b[0m\u001b[0;34m)\u001b[0m\u001b[0;34m\u001b[0m\u001b[0;34m\u001b[0m\u001b[0m\n\u001b[1;32m     11\u001b[0m     \u001b[0;31m# Acceder a los datos del DataFrame utilizando loc y los índices convertidos\u001b[0m\u001b[0;34m\u001b[0m\u001b[0;34m\u001b[0m\u001b[0m\n\u001b[0;32m---> 12\u001b[0;31m     \u001b[0;32mreturn\u001b[0m \u001b[0mcostes\u001b[0m\u001b[0;34m.\u001b[0m\u001b[0mloc\u001b[0m\u001b[0;34m[\u001b[0m\u001b[0mindices\u001b[0m\u001b[0;34m,\u001b[0m \u001b[0mindices\u001b[0m\u001b[0;34m]\u001b[0m\u001b[0;34m.\u001b[0m\u001b[0msum\u001b[0m\u001b[0;34m(\u001b[0m\u001b[0;34m)\u001b[0m\u001b[0;34m.\u001b[0m\u001b[0msum\u001b[0m\u001b[0;34m(\u001b[0m\u001b[0;34m)\u001b[0m\u001b[0;34m\u001b[0m\u001b[0;34m\u001b[0m\u001b[0m\n\u001b[0m\u001b[1;32m     13\u001b[0m \u001b[0;34m\u001b[0m\u001b[0m\n\u001b[1;32m     14\u001b[0m \u001b[0;32mdef\u001b[0m \u001b[0mramificacion_y_poda\u001b[0m\u001b[0;34m(\u001b[0m\u001b[0mcostes\u001b[0m\u001b[0;34m)\u001b[0m\u001b[0;34m:\u001b[0m\u001b[0;34m\u001b[0m\u001b[0;34m\u001b[0m\u001b[0m\n",
            "\u001b[0;32m/usr/local/lib/python3.10/dist-packages/pandas/core/indexing.py\u001b[0m in \u001b[0;36m__getitem__\u001b[0;34m(self, key)\u001b[0m\n\u001b[1;32m   1065\u001b[0m             \u001b[0;32mif\u001b[0m \u001b[0mself\u001b[0m\u001b[0;34m.\u001b[0m\u001b[0m_is_scalar_access\u001b[0m\u001b[0;34m(\u001b[0m\u001b[0mkey\u001b[0m\u001b[0;34m)\u001b[0m\u001b[0;34m:\u001b[0m\u001b[0;34m\u001b[0m\u001b[0;34m\u001b[0m\u001b[0m\n\u001b[1;32m   1066\u001b[0m                 \u001b[0;32mreturn\u001b[0m \u001b[0mself\u001b[0m\u001b[0;34m.\u001b[0m\u001b[0mobj\u001b[0m\u001b[0;34m.\u001b[0m\u001b[0m_get_value\u001b[0m\u001b[0;34m(\u001b[0m\u001b[0;34m*\u001b[0m\u001b[0mkey\u001b[0m\u001b[0;34m,\u001b[0m \u001b[0mtakeable\u001b[0m\u001b[0;34m=\u001b[0m\u001b[0mself\u001b[0m\u001b[0;34m.\u001b[0m\u001b[0m_takeable\u001b[0m\u001b[0;34m)\u001b[0m\u001b[0;34m\u001b[0m\u001b[0;34m\u001b[0m\u001b[0m\n\u001b[0;32m-> 1067\u001b[0;31m             \u001b[0;32mreturn\u001b[0m \u001b[0mself\u001b[0m\u001b[0;34m.\u001b[0m\u001b[0m_getitem_tuple\u001b[0m\u001b[0;34m(\u001b[0m\u001b[0mkey\u001b[0m\u001b[0;34m)\u001b[0m\u001b[0;34m\u001b[0m\u001b[0;34m\u001b[0m\u001b[0m\n\u001b[0m\u001b[1;32m   1068\u001b[0m         \u001b[0;32melse\u001b[0m\u001b[0;34m:\u001b[0m\u001b[0;34m\u001b[0m\u001b[0;34m\u001b[0m\u001b[0m\n\u001b[1;32m   1069\u001b[0m             \u001b[0;31m# we by definition only have the 0th axis\u001b[0m\u001b[0;34m\u001b[0m\u001b[0;34m\u001b[0m\u001b[0m\n",
            "\u001b[0;32m/usr/local/lib/python3.10/dist-packages/pandas/core/indexing.py\u001b[0m in \u001b[0;36m_getitem_tuple\u001b[0;34m(self, tup)\u001b[0m\n\u001b[1;32m   1252\u001b[0m         \u001b[0;31m# ugly hack for GH #836\u001b[0m\u001b[0;34m\u001b[0m\u001b[0;34m\u001b[0m\u001b[0m\n\u001b[1;32m   1253\u001b[0m         \u001b[0;32mif\u001b[0m \u001b[0mself\u001b[0m\u001b[0;34m.\u001b[0m\u001b[0m_multi_take_opportunity\u001b[0m\u001b[0;34m(\u001b[0m\u001b[0mtup\u001b[0m\u001b[0;34m)\u001b[0m\u001b[0;34m:\u001b[0m\u001b[0;34m\u001b[0m\u001b[0;34m\u001b[0m\u001b[0m\n\u001b[0;32m-> 1254\u001b[0;31m             \u001b[0;32mreturn\u001b[0m \u001b[0mself\u001b[0m\u001b[0;34m.\u001b[0m\u001b[0m_multi_take\u001b[0m\u001b[0;34m(\u001b[0m\u001b[0mtup\u001b[0m\u001b[0;34m)\u001b[0m\u001b[0;34m\u001b[0m\u001b[0;34m\u001b[0m\u001b[0m\n\u001b[0m\u001b[1;32m   1255\u001b[0m \u001b[0;34m\u001b[0m\u001b[0m\n\u001b[1;32m   1256\u001b[0m         \u001b[0;32mreturn\u001b[0m \u001b[0mself\u001b[0m\u001b[0;34m.\u001b[0m\u001b[0m_getitem_tuple_same_dim\u001b[0m\u001b[0;34m(\u001b[0m\u001b[0mtup\u001b[0m\u001b[0;34m)\u001b[0m\u001b[0;34m\u001b[0m\u001b[0;34m\u001b[0m\u001b[0m\n",
            "\u001b[0;32m/usr/local/lib/python3.10/dist-packages/pandas/core/indexing.py\u001b[0m in \u001b[0;36m_multi_take\u001b[0;34m(self, tup)\u001b[0m\n\u001b[1;32m   1203\u001b[0m         \"\"\"\n\u001b[1;32m   1204\u001b[0m         \u001b[0;31m# GH 836\u001b[0m\u001b[0;34m\u001b[0m\u001b[0;34m\u001b[0m\u001b[0m\n\u001b[0;32m-> 1205\u001b[0;31m         d = {\n\u001b[0m\u001b[1;32m   1206\u001b[0m             \u001b[0maxis\u001b[0m\u001b[0;34m:\u001b[0m \u001b[0mself\u001b[0m\u001b[0;34m.\u001b[0m\u001b[0m_get_listlike_indexer\u001b[0m\u001b[0;34m(\u001b[0m\u001b[0mkey\u001b[0m\u001b[0;34m,\u001b[0m \u001b[0maxis\u001b[0m\u001b[0;34m)\u001b[0m\u001b[0;34m\u001b[0m\u001b[0;34m\u001b[0m\u001b[0m\n\u001b[1;32m   1207\u001b[0m             \u001b[0;32mfor\u001b[0m \u001b[0;34m(\u001b[0m\u001b[0mkey\u001b[0m\u001b[0;34m,\u001b[0m \u001b[0maxis\u001b[0m\u001b[0;34m)\u001b[0m \u001b[0;32min\u001b[0m \u001b[0mzip\u001b[0m\u001b[0;34m(\u001b[0m\u001b[0mtup\u001b[0m\u001b[0;34m,\u001b[0m \u001b[0mself\u001b[0m\u001b[0;34m.\u001b[0m\u001b[0mobj\u001b[0m\u001b[0;34m.\u001b[0m\u001b[0m_AXIS_ORDERS\u001b[0m\u001b[0;34m)\u001b[0m\u001b[0;34m\u001b[0m\u001b[0;34m\u001b[0m\u001b[0m\n",
            "\u001b[0;32m/usr/local/lib/python3.10/dist-packages/pandas/core/indexing.py\u001b[0m in \u001b[0;36m<dictcomp>\u001b[0;34m(.0)\u001b[0m\n\u001b[1;32m   1204\u001b[0m         \u001b[0;31m# GH 836\u001b[0m\u001b[0;34m\u001b[0m\u001b[0;34m\u001b[0m\u001b[0m\n\u001b[1;32m   1205\u001b[0m         d = {\n\u001b[0;32m-> 1206\u001b[0;31m             \u001b[0maxis\u001b[0m\u001b[0;34m:\u001b[0m \u001b[0mself\u001b[0m\u001b[0;34m.\u001b[0m\u001b[0m_get_listlike_indexer\u001b[0m\u001b[0;34m(\u001b[0m\u001b[0mkey\u001b[0m\u001b[0;34m,\u001b[0m \u001b[0maxis\u001b[0m\u001b[0;34m)\u001b[0m\u001b[0;34m\u001b[0m\u001b[0;34m\u001b[0m\u001b[0m\n\u001b[0m\u001b[1;32m   1207\u001b[0m             \u001b[0;32mfor\u001b[0m \u001b[0;34m(\u001b[0m\u001b[0mkey\u001b[0m\u001b[0;34m,\u001b[0m \u001b[0maxis\u001b[0m\u001b[0;34m)\u001b[0m \u001b[0;32min\u001b[0m \u001b[0mzip\u001b[0m\u001b[0;34m(\u001b[0m\u001b[0mtup\u001b[0m\u001b[0;34m,\u001b[0m \u001b[0mself\u001b[0m\u001b[0;34m.\u001b[0m\u001b[0mobj\u001b[0m\u001b[0;34m.\u001b[0m\u001b[0m_AXIS_ORDERS\u001b[0m\u001b[0;34m)\u001b[0m\u001b[0;34m\u001b[0m\u001b[0;34m\u001b[0m\u001b[0m\n\u001b[1;32m   1208\u001b[0m         }\n",
            "\u001b[0;32m/usr/local/lib/python3.10/dist-packages/pandas/core/indexing.py\u001b[0m in \u001b[0;36m_get_listlike_indexer\u001b[0;34m(self, key, axis)\u001b[0m\n\u001b[1;32m   1430\u001b[0m         \u001b[0maxis_name\u001b[0m \u001b[0;34m=\u001b[0m \u001b[0mself\u001b[0m\u001b[0;34m.\u001b[0m\u001b[0mobj\u001b[0m\u001b[0;34m.\u001b[0m\u001b[0m_get_axis_name\u001b[0m\u001b[0;34m(\u001b[0m\u001b[0maxis\u001b[0m\u001b[0;34m)\u001b[0m\u001b[0;34m\u001b[0m\u001b[0;34m\u001b[0m\u001b[0m\n\u001b[1;32m   1431\u001b[0m \u001b[0;34m\u001b[0m\u001b[0m\n\u001b[0;32m-> 1432\u001b[0;31m         \u001b[0mkeyarr\u001b[0m\u001b[0;34m,\u001b[0m \u001b[0mindexer\u001b[0m \u001b[0;34m=\u001b[0m \u001b[0max\u001b[0m\u001b[0;34m.\u001b[0m\u001b[0m_get_indexer_strict\u001b[0m\u001b[0;34m(\u001b[0m\u001b[0mkey\u001b[0m\u001b[0;34m,\u001b[0m \u001b[0maxis_name\u001b[0m\u001b[0;34m)\u001b[0m\u001b[0;34m\u001b[0m\u001b[0;34m\u001b[0m\u001b[0m\n\u001b[0m\u001b[1;32m   1433\u001b[0m \u001b[0;34m\u001b[0m\u001b[0m\n\u001b[1;32m   1434\u001b[0m         \u001b[0;32mreturn\u001b[0m \u001b[0mkeyarr\u001b[0m\u001b[0;34m,\u001b[0m \u001b[0mindexer\u001b[0m\u001b[0;34m\u001b[0m\u001b[0;34m\u001b[0m\u001b[0m\n",
            "\u001b[0;32m/usr/local/lib/python3.10/dist-packages/pandas/core/indexes/base.py\u001b[0m in \u001b[0;36m_get_indexer_strict\u001b[0;34m(self, key, axis_name)\u001b[0m\n\u001b[1;32m   6068\u001b[0m             \u001b[0mkeyarr\u001b[0m\u001b[0;34m,\u001b[0m \u001b[0mindexer\u001b[0m\u001b[0;34m,\u001b[0m \u001b[0mnew_indexer\u001b[0m \u001b[0;34m=\u001b[0m \u001b[0mself\u001b[0m\u001b[0;34m.\u001b[0m\u001b[0m_reindex_non_unique\u001b[0m\u001b[0;34m(\u001b[0m\u001b[0mkeyarr\u001b[0m\u001b[0;34m)\u001b[0m\u001b[0;34m\u001b[0m\u001b[0;34m\u001b[0m\u001b[0m\n\u001b[1;32m   6069\u001b[0m \u001b[0;34m\u001b[0m\u001b[0m\n\u001b[0;32m-> 6070\u001b[0;31m         \u001b[0mself\u001b[0m\u001b[0;34m.\u001b[0m\u001b[0m_raise_if_missing\u001b[0m\u001b[0;34m(\u001b[0m\u001b[0mkeyarr\u001b[0m\u001b[0;34m,\u001b[0m \u001b[0mindexer\u001b[0m\u001b[0;34m,\u001b[0m \u001b[0maxis_name\u001b[0m\u001b[0;34m)\u001b[0m\u001b[0;34m\u001b[0m\u001b[0;34m\u001b[0m\u001b[0m\n\u001b[0m\u001b[1;32m   6071\u001b[0m \u001b[0;34m\u001b[0m\u001b[0m\n\u001b[1;32m   6072\u001b[0m         \u001b[0mkeyarr\u001b[0m \u001b[0;34m=\u001b[0m \u001b[0mself\u001b[0m\u001b[0;34m.\u001b[0m\u001b[0mtake\u001b[0m\u001b[0;34m(\u001b[0m\u001b[0mindexer\u001b[0m\u001b[0;34m)\u001b[0m\u001b[0;34m\u001b[0m\u001b[0;34m\u001b[0m\u001b[0m\n",
            "\u001b[0;32m/usr/local/lib/python3.10/dist-packages/pandas/core/indexes/base.py\u001b[0m in \u001b[0;36m_raise_if_missing\u001b[0;34m(self, key, indexer, axis_name)\u001b[0m\n\u001b[1;32m   6131\u001b[0m \u001b[0;34m\u001b[0m\u001b[0m\n\u001b[1;32m   6132\u001b[0m             \u001b[0mnot_found\u001b[0m \u001b[0;34m=\u001b[0m \u001b[0mlist\u001b[0m\u001b[0;34m(\u001b[0m\u001b[0mensure_index\u001b[0m\u001b[0;34m(\u001b[0m\u001b[0mkey\u001b[0m\u001b[0;34m)\u001b[0m\u001b[0;34m[\u001b[0m\u001b[0mmissing_mask\u001b[0m\u001b[0;34m.\u001b[0m\u001b[0mnonzero\u001b[0m\u001b[0;34m(\u001b[0m\u001b[0;34m)\u001b[0m\u001b[0;34m[\u001b[0m\u001b[0;36m0\u001b[0m\u001b[0;34m]\u001b[0m\u001b[0;34m]\u001b[0m\u001b[0;34m.\u001b[0m\u001b[0munique\u001b[0m\u001b[0;34m(\u001b[0m\u001b[0;34m)\u001b[0m\u001b[0;34m)\u001b[0m\u001b[0;34m\u001b[0m\u001b[0;34m\u001b[0m\u001b[0m\n\u001b[0;32m-> 6133\u001b[0;31m             \u001b[0;32mraise\u001b[0m \u001b[0mKeyError\u001b[0m\u001b[0;34m(\u001b[0m\u001b[0;34mf\"{not_found} not in index\"\u001b[0m\u001b[0;34m)\u001b[0m\u001b[0;34m\u001b[0m\u001b[0;34m\u001b[0m\u001b[0m\n\u001b[0m\u001b[1;32m   6134\u001b[0m \u001b[0;34m\u001b[0m\u001b[0m\n\u001b[1;32m   6135\u001b[0m     \u001b[0;34m@\u001b[0m\u001b[0moverload\u001b[0m\u001b[0;34m\u001b[0m\u001b[0;34m\u001b[0m\u001b[0m\n",
            "\u001b[0;31mKeyError\u001b[0m: '[0] not in index'"
          ]
        }
      ]
    },
    {
      "cell_type": "markdown",
      "source": [
        " La idea para resolver este programa es el empleo del problema tipo visto en la asignatura de **Programación lineal entera** puesto que, para empezar, todas las variables son de tipo entero. Además, cumple con la premisa de que hay que buscar un máximo o mínimo de una función objetivo lineal sujeto a restricciones, que en este caso, dichas restricciones serán que los actores de\n",
        "doblaje cobran todos la misma cantidad por cada día que deben desplazarse hasta el estudio de\n",
        "grabación independientemente del número de tomas que se graben y no es posible grabar más\n",
        "de 6 tomas por día. El objetivo es planificar las sesiones por día de manera que el gasto por los\n",
        "servicios de los actores de doblaje sea el menor posible.\n",
        "\n",
        "El objetivo del problema será **minimizar el gasto** total de los actores de doblaje. Por otro lado, como algoritmo de búsqueda de la solución, **vamos a emplear ramificación y poda**, para ello, necesitamos una estructura de árbol. Los actores y las tomas ya están colocados en la tabla.\n",
        "\n",
        " Las primeras **preguntas** que debemos hacernos son: ¿Cómo diseñamos el árbol? ¿Qué mecanismo diseñamos para ramificar? ¿Cómo podamos?.\n",
        "\n",
        " Una posible manera de **diseñar el árbol** es mediante una lista de tuplas, donde cada tupla representa una asignación parcial. Cada elemento de la tupla corresponde a un actor, y el valor en ese elemento indica a qué toma ha sido asignado ese actor como se vio en teoría. En el código que proporcionaste, una tupla del árbol de soluciones tiene la forma (a1, a2, ..., an), donde a_i es el número de toma a la cual el actor i ha sido asignado."
      ],
      "metadata": {
        "id": "nynGm6eGvv2J"
      }
    },
    {
      "cell_type": "markdown",
      "source": [
        "Tenemos una lista de tuplas que representa nuestra **espacio de soluciones**. Debido al volumen de datos, no es posible considerar una sola tupla como hemos visto en teoría, sería ineficiente. Las asignaciones parciales resultan más eficientes en este caso, donde cada nodo es una asignación parcial, lo que es aconsejable si vamos a realizar la técnica de ramificación y poda.\n",
        "\n",
        "De este modo, por ejemplo, si tenemos la tupla (1, 3, 0, 2, 4, 5, 7, 6, 8, 9), significa que:\n",
        "\n",
        "El actor 0 ha sido asignado a la toma 1.\n",
        "El actor 1 ha sido asignado a la toma 3.\n",
        "El actor 2 ha sido asignado a la toma 0.\n",
        "El actor 3 ha sido asignado a la toma 2.\n",
        "Y así sucesivamente.\n",
        "\n",
        "**¿Cómo construimos la función objetivo?** Dado que **el objetivo es minimizar el gasto total** por los servicios de los actores de doblaje, necesitamos asignar un costo a cada toma asignada. **La matriz de costos** nos ayudará a determinar este costo para cada asignación de toma por actor."
      ],
      "metadata": {
        "id": "vfATzPmvwFr0"
      }
    },
    {
      "cell_type": "markdown",
      "source": [
        " Vamos a proveernos de una función para estimar la **cota inferior para una solución parcial**. Tenemos que hacer una estimación, esto es la que nos va a servir para podar. Se trata de una estrategia para conducir al algoritmo a que sea más eficiente, o, a que dirija la búsqueda para encontrar la solución óptima. Para la cota inferior lo que **buscamos es el mínimo de esas columnas** para que nos sirva como función de cota inferior."
      ],
      "metadata": {
        "id": "KTikyZiEwR-0"
      }
    },
    {
      "cell_type": "markdown",
      "source": [
        "#Análisis\n",
        "- ¿Que complejidad tiene el problema?. Orden de complejidad y Contabilizar el espacio de soluciones"
      ],
      "metadata": {
        "id": "HZz52wOppp-U"
      }
    },
    {
      "cell_type": "markdown",
      "source": [
        "Dado que tenemos 10 actores y 30 tomas, tenemos un espacio de soluciones de 30**10 ya que cada actor puede ser asignado a cualquiera de las 30 tomas. El valor del espacio de soluciones es muy grande por lo que destaca la complejidad de explorar todo el espacio de soluciones y la necesidad de algoritmos como ramificación y poda para encontrar soluciones óptimas de manera eficiente.\n",
        "\n",
        "El número total de soluciones tiene una expresión factorial. Esto se debe a que cada actor tiene 30 tomas entre las cuales puede ser asignado, y hay 10 actores en total, lo que supone un orden de complejidad O(N!), por lo que la técnica de ramificación y poda puede ser muy útil para reducir el número de búsqueda de soluciones."
      ],
      "metadata": {
        "id": "fwIiPw_Wq0nU"
      }
    },
    {
      "cell_type": "markdown",
      "source": [
        "#Diseño\n",
        "- ¿Que técnica utilizo? ¿Por qué?"
      ],
      "metadata": {
        "id": "ixEJUwH_pv7M"
      }
    },
    {
      "cell_type": "markdown",
      "source": [
        "Lo siguiente será aplicar la **técnica de ramificación y poda**. Hemos definido el conjunto de datos que representa el problema de asignación de los actores por tomas. Hemos definido una matriz de costo asociado a cada actor por cada toma.\n",
        "\n",
        "A continuación vamos a definir las funciones auxiliares: valor, CI, crear_hijos y ramificación_y_poda. Donde la función **valor** calcula el valor de una solución parcial, **CI** calcula una cota inferior para la solución parcial, **crear_hijos** genera los hijos de un nodo para la asignación de actores por tomas, y, la función principal **ramificación_y_poda** ejecuta el algoritmo ramificación y poda.\n",
        "\n",
        "En la ramificación y poda se van a generar nodos y ramificar el árbol de búsqueda a través de un bucle. En cada iteración se seleccionará el nodo más prometedor basándose de la cota inferior. Se generarán los jijos mediante la función \"crear_hijos\". Como es necesario también realizar una poda, se eliminarán los nodos cuya cota inferior es mayor o igual a la mejor solución encontrada hasta el momento."
      ],
      "metadata": {
        "id": "kZZzKey5wiMg"
      }
    },
    {
      "cell_type": "markdown",
      "source": [
        "Ahora lo siguiente sería: **Inicializamos la solución inicialmente con todo vacío**, y, nos vamos a ir guardando una **variable que llamamos NODOS**, los nodos que debemos explorar, los nodos vivos, con lo cual lo que hemos hecho es inicializar la solución."
      ],
      "metadata": {
        "id": "DEPPQmWd_vPf"
      }
    },
    {
      "cell_type": "markdown",
      "source": [
        "Realizamos un **bucle iterativo**, lo que hacemos es ramificar, exploramos, **buscamos el nodo prometedor**. Hemos creado una **variable HIJOS** que va a guardar los hijos, porque lo que vamos a hacer posteriormente, es podarlos. **A continuación solamente añadiremos a NODOS a aquellos nodos que hayan pasado el filtro de la poda**."
      ],
      "metadata": {
        "id": "NgY3XeAc_5EP"
      }
    }
  ]
}