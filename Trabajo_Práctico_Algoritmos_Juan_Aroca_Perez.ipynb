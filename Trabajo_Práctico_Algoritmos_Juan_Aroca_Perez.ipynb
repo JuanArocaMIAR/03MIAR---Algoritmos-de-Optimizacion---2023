{
  "nbformat": 4,
  "nbformat_minor": 0,
  "metadata": {
    "colab": {
      "provenance": [],
      "include_colab_link": true
    },
    "kernelspec": {
      "name": "python3",
      "display_name": "Python 3"
    }
  },
  "cells": [
    {
      "cell_type": "markdown",
      "metadata": {
        "id": "view-in-github",
        "colab_type": "text"
      },
      "source": [
        "<a href=\"https://colab.research.google.com/github/JuanArocaMIAR/03MIAR---Algoritmos-de-Optimizacion---2023/blob/main/Trabajo_Pr%C3%A1ctico_Algoritmos_Juan_Aroca_Perez.ipynb\" target=\"_parent\"><img src=\"https://colab.research.google.com/assets/colab-badge.svg\" alt=\"Open In Colab\"/></a>"
      ]
    },
    {
      "cell_type": "markdown",
      "metadata": {
        "id": "hVbXYX-RfPWh"
      },
      "source": [
        "# Algoritmos de optimización - Trabajo Práctico<br>\n",
        "Nombre y Apellidos: Juan Aroca Pérez  <br>\n",
        "Url: https://github.com/JuanArocaMIAR/03MIAR---Algoritmos-de-Optimizacion---2023.git <br>\n",
        "Google Colab: https://colab.research.google.com/drive/17WXjPqby0x88NQ9ba7rwcmoBw6ON4PdA#scrollTo=ZfaVmbA9ShoG <br>\n",
        "\n",
        "Problema:\n",
        ">1. Sesiones de doblaje <br>\n",
        "\n",
        "\n",
        "**Descripción del problema:**\n",
        "\n",
        "Se precisa coordinar el doblaje de una película. Los actores del doblaje deben coincidir en las\n",
        "tomas en las que sus personajes aparecen juntos en las diferentes tomas. Los actores de\n",
        "doblaje cobran todos la misma cantidad por cada día que deben desplazarse hasta el estudio de\n",
        "grabación independientemente del número de tomas que se graben. No es posible grabar más\n",
        "de 6 tomas por día. El objetivo es planificar las sesiones por día de manera que el gasto por los\n",
        "servicios de los actores de doblaje sea el menor posible.\n",
        "\n",
        "\n",
        "\n",
        "\n",
        "\n",
        "\n",
        "\n",
        "                                        "
      ]
    },
    {
      "cell_type": "markdown",
      "source": [
        "#Modelo\n",
        "- ¿Como represento el espacio de soluciones?\n",
        "- ¿Cual es la función objetivo?\n",
        "- ¿Como implemento las restricciones?"
      ],
      "metadata": {
        "id": "Sbo9IqQtpaHZ"
      }
    },
    {
      "cell_type": "markdown",
      "source": [
        "**¿Cómo represento el espacio de soluciones?**\n",
        "\n",
        "Cada nodo del árbol de búsqueda representa una posible asignación de actores a tomas de la película. Por ejemplo, si se tiene la solución [3, 1, 6, 2, 5, 7, 4, 9, 6, 8] quiere decir que:\n",
        "El actor 0 ha sido asignado a la toma 3, el actor 1 a la toma 1, etc.\n",
        "\n",
        "\n",
        "**¿Cuál es la función objetivo?**\n",
        "\n",
        "Dado que el objetivo es minimizar el coste total de la grabación, la función objetivo se define como la suma de los costes de todas las tomas. En este caso, la función ***gasto_total*** calcula exactamente eso.\n",
        "\n",
        "**¿Cómo implemento las restricciones?**\n",
        "\n",
        "Las restricciones se implementan en la función ***generar_hijos_ordenados***. Esta función genera los posibles nodos hijos a partir de un nodo dado, asegurando que se respeten las restricciones del problema."
      ],
      "metadata": {
        "id": "W37x2w4_Njin"
      }
    },
    {
      "cell_type": "markdown",
      "source": [
        "#Análisis\n",
        "- ¿Que complejidad tiene el problema?. Orden de complejidad y Contabilizar el espacio de soluciones"
      ],
      "metadata": {
        "id": "HZz52wOppp-U"
      }
    },
    {
      "cell_type": "markdown",
      "source": [
        "El orden de complejidad del problema es factorial, es decir, **O(N!)**.\n",
        "\n",
        "Por otro lado, en cuanto al espacio de soluciones, es **30^10** ya que hay 30 tomas para 10 actores, es decir, el espacio de soluciones es muy grande.\n",
        "\n",
        "Debido al gran espacio de soluciones, es necesario el uso de algoritmos que sean eficientes en este tipo de problemas, por lo que se podría intentar solucionar mediante la **técnica de ramificación y poda**."
      ],
      "metadata": {
        "id": "fwIiPw_Wq0nU"
      }
    },
    {
      "cell_type": "markdown",
      "source": [
        "#Diseño\n",
        "- ¿Que técnica utilizo? ¿Por qué?"
      ],
      "metadata": {
        "id": "ixEJUwH_pv7M"
      }
    },
    {
      "cell_type": "markdown",
      "source": [
        "En primer lugar, se pensó en utilizar ramificación y poda debido a su capacidad para manejar problemas de optimización combinatoria de manera eficiente, reduciendo la cantidad de soluciones exploradas y permitiendo encontrar la solución óptima en un tiempo razonable. Pero dado que el tiempo para encontrar una solución era excesivo se decidió incorporar componentes heurísticos como la selección de un nodo prometedor o la ordenación de los nodos hijo, reduciendo así el tiempo.\n",
        "\n",
        "La idea de la poda es eliminar del espacio de búsqueda soluciones que sabemos que no conducirán a la solución óptima o a una solución mejor que la mejor solución actual. Esto se hace mediante la comparación de cotas superiores e inferiores en cada nodo del árbol de búsqueda.\n",
        "\n",
        "En este caso particular, la estrategia de poda se implementa de la siguiente manera:\n",
        "\n",
        "- En cada iteración del algoritmo, se evalúa un nodo prometedor que tiene la menor cota inferior entre todos los nodos activos.\n",
        "- Se generan los hijos de este nodo prometedor.\n",
        "- Para cada hijo generado, se calcula su cota inferior. Si esta cota inferior es mayor o igual que la mejor cota superior conocida entonces no tiene sentido continuar explorando este camino, ya que no conduce a una solución mejor. Por lo tanto, se poda este nodo y todos sus hijos.\n",
        "- Se repite este proceso hasta que no queden nodos activos por explorar.\n",
        "\n",
        "A continuación, se puede ver el código implementado.\n",
        "\n"
      ],
      "metadata": {
        "id": "0Cf1qwTvPg-m"
      }
    },
    {
      "cell_type": "markdown",
      "source": [
        "#1º: Carga de los datos del problema"
      ],
      "metadata": {
        "id": "HF5WCSg2RNaU"
      }
    },
    {
      "cell_type": "code",
      "source": [
        "#Respuesta\n",
        "import numpy as np\n",
        "import pandas as pd\n",
        "from google.colab import files\n",
        "\n",
        "# Subir el archivo CSV desde tu sistema local\n",
        "archivo = files.upload()\n",
        "\n",
        "# Seleccionar el archivo\n",
        "datos = list(archivo.keys())[0]\n",
        "\n",
        "# Cargar el dataframe desde el archivo CSV\n",
        "df_actores = pd.read_csv(datos, index_col=0)"
      ],
      "metadata": {
        "colab": {
          "base_uri": "https://localhost:8080/",
          "height": 73
        },
        "id": "xUrxAHUQRMls",
        "outputId": "6025ea02-b9d8-468d-f181-d0ff21b884aa"
      },
      "execution_count": null,
      "outputs": [
        {
          "output_type": "display_data",
          "data": {
            "text/plain": [
              "<IPython.core.display.HTML object>"
            ],
            "text/html": [
              "\n",
              "     <input type=\"file\" id=\"files-7c7379bd-4636-4700-a70f-94025f5dabc9\" name=\"files[]\" multiple disabled\n",
              "        style=\"border:none\" />\n",
              "     <output id=\"result-7c7379bd-4636-4700-a70f-94025f5dabc9\">\n",
              "      Upload widget is only available when the cell has been executed in the\n",
              "      current browser session. Please rerun this cell to enable.\n",
              "      </output>\n",
              "      <script>// Copyright 2017 Google LLC\n",
              "//\n",
              "// Licensed under the Apache License, Version 2.0 (the \"License\");\n",
              "// you may not use this file except in compliance with the License.\n",
              "// You may obtain a copy of the License at\n",
              "//\n",
              "//      http://www.apache.org/licenses/LICENSE-2.0\n",
              "//\n",
              "// Unless required by applicable law or agreed to in writing, software\n",
              "// distributed under the License is distributed on an \"AS IS\" BASIS,\n",
              "// WITHOUT WARRANTIES OR CONDITIONS OF ANY KIND, either express or implied.\n",
              "// See the License for the specific language governing permissions and\n",
              "// limitations under the License.\n",
              "\n",
              "/**\n",
              " * @fileoverview Helpers for google.colab Python module.\n",
              " */\n",
              "(function(scope) {\n",
              "function span(text, styleAttributes = {}) {\n",
              "  const element = document.createElement('span');\n",
              "  element.textContent = text;\n",
              "  for (const key of Object.keys(styleAttributes)) {\n",
              "    element.style[key] = styleAttributes[key];\n",
              "  }\n",
              "  return element;\n",
              "}\n",
              "\n",
              "// Max number of bytes which will be uploaded at a time.\n",
              "const MAX_PAYLOAD_SIZE = 100 * 1024;\n",
              "\n",
              "function _uploadFiles(inputId, outputId) {\n",
              "  const steps = uploadFilesStep(inputId, outputId);\n",
              "  const outputElement = document.getElementById(outputId);\n",
              "  // Cache steps on the outputElement to make it available for the next call\n",
              "  // to uploadFilesContinue from Python.\n",
              "  outputElement.steps = steps;\n",
              "\n",
              "  return _uploadFilesContinue(outputId);\n",
              "}\n",
              "\n",
              "// This is roughly an async generator (not supported in the browser yet),\n",
              "// where there are multiple asynchronous steps and the Python side is going\n",
              "// to poll for completion of each step.\n",
              "// This uses a Promise to block the python side on completion of each step,\n",
              "// then passes the result of the previous step as the input to the next step.\n",
              "function _uploadFilesContinue(outputId) {\n",
              "  const outputElement = document.getElementById(outputId);\n",
              "  const steps = outputElement.steps;\n",
              "\n",
              "  const next = steps.next(outputElement.lastPromiseValue);\n",
              "  return Promise.resolve(next.value.promise).then((value) => {\n",
              "    // Cache the last promise value to make it available to the next\n",
              "    // step of the generator.\n",
              "    outputElement.lastPromiseValue = value;\n",
              "    return next.value.response;\n",
              "  });\n",
              "}\n",
              "\n",
              "/**\n",
              " * Generator function which is called between each async step of the upload\n",
              " * process.\n",
              " * @param {string} inputId Element ID of the input file picker element.\n",
              " * @param {string} outputId Element ID of the output display.\n",
              " * @return {!Iterable<!Object>} Iterable of next steps.\n",
              " */\n",
              "function* uploadFilesStep(inputId, outputId) {\n",
              "  const inputElement = document.getElementById(inputId);\n",
              "  inputElement.disabled = false;\n",
              "\n",
              "  const outputElement = document.getElementById(outputId);\n",
              "  outputElement.innerHTML = '';\n",
              "\n",
              "  const pickedPromise = new Promise((resolve) => {\n",
              "    inputElement.addEventListener('change', (e) => {\n",
              "      resolve(e.target.files);\n",
              "    });\n",
              "  });\n",
              "\n",
              "  const cancel = document.createElement('button');\n",
              "  inputElement.parentElement.appendChild(cancel);\n",
              "  cancel.textContent = 'Cancel upload';\n",
              "  const cancelPromise = new Promise((resolve) => {\n",
              "    cancel.onclick = () => {\n",
              "      resolve(null);\n",
              "    };\n",
              "  });\n",
              "\n",
              "  // Wait for the user to pick the files.\n",
              "  const files = yield {\n",
              "    promise: Promise.race([pickedPromise, cancelPromise]),\n",
              "    response: {\n",
              "      action: 'starting',\n",
              "    }\n",
              "  };\n",
              "\n",
              "  cancel.remove();\n",
              "\n",
              "  // Disable the input element since further picks are not allowed.\n",
              "  inputElement.disabled = true;\n",
              "\n",
              "  if (!files) {\n",
              "    return {\n",
              "      response: {\n",
              "        action: 'complete',\n",
              "      }\n",
              "    };\n",
              "  }\n",
              "\n",
              "  for (const file of files) {\n",
              "    const li = document.createElement('li');\n",
              "    li.append(span(file.name, {fontWeight: 'bold'}));\n",
              "    li.append(span(\n",
              "        `(${file.type || 'n/a'}) - ${file.size} bytes, ` +\n",
              "        `last modified: ${\n",
              "            file.lastModifiedDate ? file.lastModifiedDate.toLocaleDateString() :\n",
              "                                    'n/a'} - `));\n",
              "    const percent = span('0% done');\n",
              "    li.appendChild(percent);\n",
              "\n",
              "    outputElement.appendChild(li);\n",
              "\n",
              "    const fileDataPromise = new Promise((resolve) => {\n",
              "      const reader = new FileReader();\n",
              "      reader.onload = (e) => {\n",
              "        resolve(e.target.result);\n",
              "      };\n",
              "      reader.readAsArrayBuffer(file);\n",
              "    });\n",
              "    // Wait for the data to be ready.\n",
              "    let fileData = yield {\n",
              "      promise: fileDataPromise,\n",
              "      response: {\n",
              "        action: 'continue',\n",
              "      }\n",
              "    };\n",
              "\n",
              "    // Use a chunked sending to avoid message size limits. See b/62115660.\n",
              "    let position = 0;\n",
              "    do {\n",
              "      const length = Math.min(fileData.byteLength - position, MAX_PAYLOAD_SIZE);\n",
              "      const chunk = new Uint8Array(fileData, position, length);\n",
              "      position += length;\n",
              "\n",
              "      const base64 = btoa(String.fromCharCode.apply(null, chunk));\n",
              "      yield {\n",
              "        response: {\n",
              "          action: 'append',\n",
              "          file: file.name,\n",
              "          data: base64,\n",
              "        },\n",
              "      };\n",
              "\n",
              "      let percentDone = fileData.byteLength === 0 ?\n",
              "          100 :\n",
              "          Math.round((position / fileData.byteLength) * 100);\n",
              "      percent.textContent = `${percentDone}% done`;\n",
              "\n",
              "    } while (position < fileData.byteLength);\n",
              "  }\n",
              "\n",
              "  // All done.\n",
              "  yield {\n",
              "    response: {\n",
              "      action: 'complete',\n",
              "    }\n",
              "  };\n",
              "}\n",
              "\n",
              "scope.google = scope.google || {};\n",
              "scope.google.colab = scope.google.colab || {};\n",
              "scope.google.colab._files = {\n",
              "  _uploadFiles,\n",
              "  _uploadFilesContinue,\n",
              "};\n",
              "})(self);\n",
              "</script> "
            ]
          },
          "metadata": {}
        },
        {
          "output_type": "stream",
          "name": "stdout",
          "text": [
            "Saving Datos problema doblaje(30 tomas, 10 actores) - Hoja 1.csv to Datos problema doblaje(30 tomas, 10 actores) - Hoja 1 (1).csv\n"
          ]
        }
      ]
    },
    {
      "cell_type": "code",
      "source": [
        "matriz_tomas = df_actores.iloc[1:31, 0:10].astype(int).values\n",
        "print(matriz_tomas)"
      ],
      "metadata": {
        "colab": {
          "base_uri": "https://localhost:8080/"
        },
        "id": "xjRqBFwORNDv",
        "outputId": "1f8b164e-b927-4d59-9d3b-a4c65b974c05"
      },
      "execution_count": null,
      "outputs": [
        {
          "output_type": "stream",
          "name": "stdout",
          "text": [
            "[[1 1 1 1 1 0 0 0 0 0]\n",
            " [0 0 1 1 1 0 0 0 0 0]\n",
            " [0 1 0 0 1 0 1 0 0 0]\n",
            " [1 1 0 0 0 0 1 1 0 0]\n",
            " [0 1 0 1 0 0 0 1 0 0]\n",
            " [1 1 0 1 1 0 0 0 0 0]\n",
            " [1 1 0 1 1 0 0 0 0 0]\n",
            " [1 1 0 0 0 1 0 0 0 0]\n",
            " [1 1 0 1 0 0 0 0 0 0]\n",
            " [1 1 0 0 0 1 0 0 1 0]\n",
            " [1 1 1 0 1 0 0 1 0 0]\n",
            " [1 1 1 1 0 1 0 0 0 0]\n",
            " [1 0 0 1 1 0 0 0 0 0]\n",
            " [1 0 1 0 0 1 0 0 0 0]\n",
            " [1 1 0 0 0 0 1 0 0 0]\n",
            " [0 0 0 1 0 0 0 0 0 1]\n",
            " [1 0 1 0 0 0 0 0 0 0]\n",
            " [0 0 1 0 0 1 0 0 0 0]\n",
            " [1 0 1 0 0 0 0 0 0 0]\n",
            " [1 0 1 1 1 0 0 0 0 0]\n",
            " [0 0 0 0 0 1 0 1 0 0]\n",
            " [1 1 1 1 0 0 0 0 0 0]\n",
            " [1 0 1 0 0 0 0 0 0 0]\n",
            " [0 0 1 0 0 1 0 0 0 0]\n",
            " [1 1 0 1 0 0 0 0 0 1]\n",
            " [1 0 1 0 1 0 0 0 1 0]\n",
            " [0 0 0 1 1 0 0 0 0 0]\n",
            " [1 0 0 1 0 0 0 0 0 0]\n",
            " [1 0 0 0 1 1 0 0 0 0]\n",
            " [1 0 0 1 0 0 0 0 0 0]]\n"
          ]
        }
      ]
    },
    {
      "cell_type": "markdown",
      "source": [
        "##2º: Ramificación y poda con componentes heurísticos:"
      ],
      "metadata": {
        "id": "xdKqNsDfW8C2"
      }
    },
    {
      "cell_type": "code",
      "source": [
        "def cota_inf(nodo, matriz_tomas):\n",
        "    return sum(matriz_tomas[i][nodo[i]] for i in range(len(nodo)))\n",
        "\n",
        "def generar_hijos_ordenados(nodo, dimension, matriz_tomas):\n",
        "    hijos = []\n",
        "    for i in range(dimension):\n",
        "        if i not in nodo:\n",
        "            hijo = {'solución': nodo + (i,), 'cota inferior': cota_inf(nodo + (i,), matriz_tomas)}\n",
        "            hijos.append(hijo)\n",
        "    hijos.sort(key=lambda x: x['cota inferior'])\n",
        "    return hijos\n",
        "\n",
        "def gasto_total(asignacion, matriz_tomas):\n",
        "    asignacion_array = np.array(asignacion)\n",
        "    num_dias, num_actores = asignacion_array.shape\n",
        "    gasto_total = 0\n",
        "    for i in range(num_dias):\n",
        "        for j in range(num_actores):\n",
        "            gasto_total += matriz_tomas[asignacion_array[i][j]][i]\n",
        "    return gasto_total\n",
        "\n",
        "def ramificacion_y_poda_heuristica(matriz_tomas):\n",
        "    dimension = len(matriz_tomas[0])\n",
        "    mejor_solucion = tuple(i for i in range(dimension))\n",
        "    cota_sup = cota_inf(mejor_solucion, matriz_tomas)\n",
        "\n",
        "    nodos = [{'solución': (), 'cota inferior': cota_inf((), matriz_tomas)}]\n",
        "    iteracion = 0\n",
        "\n",
        "    while nodos:\n",
        "        iteracion += 1\n",
        "        nodo_prometedor = min(nodos, key=lambda x: x['cota inferior'])['solución']\n",
        "        hijos = generar_hijos_ordenados(nodo_prometedor, dimension, matriz_tomas)\n",
        "\n",
        "        for hijo in hijos:\n",
        "            if len(hijo['solución']) == dimension:\n",
        "                if hijo['cota inferior'] < cota_sup:\n",
        "                    cota_sup = hijo['cota inferior']\n",
        "                    mejor_solucion = hijo['solución']\n",
        "            elif hijo['cota inferior'] < cota_sup:\n",
        "                nodos.append(hijo)\n",
        "\n",
        "        nodos = [x for x in nodos if x['solución'] != nodo_prometedor]\n",
        "\n",
        "    mejor_solucion_array = np.array([list(mejor_solucion)])\n",
        "    mejor_gasto = gasto_total(mejor_solucion_array, matriz_tomas)\n",
        "\n",
        "    print(\"La mejor solución encontrada es:\", mejor_solucion)\n",
        "    print(\"Coste total de la mejor solución encontrada:\", mejor_gasto)\n",
        "\n",
        "ramificacion_y_poda_heuristica(matriz_tomas)\n"
      ],
      "metadata": {
        "colab": {
          "base_uri": "https://localhost:8080/"
        },
        "id": "xvXH-dGvUzrs",
        "outputId": "4b8b91cd-a70d-4b26-ad90-a35f37316a4b"
      },
      "execution_count": null,
      "outputs": [
        {
          "output_type": "stream",
          "name": "stdout",
          "text": [
            "La mejor solución encontrada es: (5, 1, 0, 2, 4, 6, 7, 3, 8, 9)\n",
            "Coste total de la mejor solución encontrada: 7\n"
          ]
        }
      ]
    },
    {
      "cell_type": "markdown",
      "source": [
        "Se observa que aun incorporando componentes heurísticos el tiempo de ejecución sigue siendo relativamente elevado, se intenta cambiar de estrategia y utilizar otros algoritmos como el de **búsqueda local**, incorporando también componentes heurísticos como la generación de una solución inicial aleatoria.\n",
        "\n",
        "A continuación, se puede ver el código implementado.\n"
      ],
      "metadata": {
        "id": "QygT0-t4Re0C"
      }
    },
    {
      "cell_type": "markdown",
      "source": [
        "#3º: Búsqueda local con componentes heurísticos:"
      ],
      "metadata": {
        "id": "V2TWmWIsXCWh"
      }
    },
    {
      "cell_type": "code",
      "source": [
        "# Función para calcular el gasto total de una asignación\n",
        "def gasto_total(asignacion, matriz_tomas):\n",
        "    num_dias, num_actores = asignacion.shape\n",
        "    gasto_total = 0\n",
        "\n",
        "    for i in range(num_dias):\n",
        "        for j in range(num_actores):\n",
        "            # Suma el costo de la toma asignada al actor en el día i al gasto total\n",
        "            gasto_total += matriz_tomas[asignacion[i][j]][i]\n",
        "    return gasto_total\n",
        "\n",
        "# Función para generar una solución inicial aleatoria\n",
        "def generar_solucion_inicial(num_dias, num_actores, num_tomas_por_dia):\n",
        "    # Genera una matriz inicial de dimensiones num_dias x num_actores, inicializada con ceros\n",
        "    asignacion = np.zeros((num_dias, num_actores), dtype=int)\n",
        "\n",
        "    for i in range(num_dias):\n",
        "        tomas_disponibles = np.arange(num_actores)\n",
        "        np.random.shuffle(tomas_disponibles)  # Mezcla aleatoriamente los índices de los actores\n",
        "\n",
        "        # Asigna los primeros num_tomas_por_dia actores a los primeros num_tomas_por_dia índices\n",
        "        asignacion[i, :num_tomas_por_dia] = tomas_disponibles[:num_tomas_por_dia]\n",
        "    return asignacion\n",
        "\n",
        "# Intercambiar dos tomas entre días\n",
        "def vecindad(asignacion):\n",
        "    vecinos = []  # Inicializa una lista para almacenar los vecinos\n",
        "    num_dias, num_actores = asignacion.shape\n",
        "\n",
        "    for i in range(num_dias):\n",
        "        for j in range(i + 1, num_dias):\n",
        "            for k in range(num_actores):\n",
        "                for l in range(num_actores):\n",
        "                    vecino = asignacion.copy()\n",
        "                    vecino[i, k], vecino[j, l] = vecino[j, l], vecino[i, k]\n",
        "                    vecinos.append(vecino)\n",
        "    return vecinos\n",
        "\n",
        "# Búsqueda local heurística\n",
        "def busqueda_local_heuristica(matriz_tomas, num_dias, num_actores, num_tomas_por_dia, max_iter):\n",
        "    mejor_solucion = generar_solucion_inicial(num_dias, num_actores, num_tomas_por_dia)  # Genera una solución inicial aleatoria\n",
        "    mejor_gasto = gasto_total(mejor_solucion, matriz_tomas)\n",
        "\n",
        "    iteracion = 0\n",
        "    mejora = True\n",
        "    while mejora and iteracion < max_iter:  # Mientras haya mejora y no se alcance el máximo número de iteraciones\n",
        "        mejora = False\n",
        "        iteracion += 1\n",
        "        for vecino in vecindad(mejor_solucion):\n",
        "            gasto_vecino = gasto_total(vecino, matriz_tomas)\n",
        "            if gasto_vecino < mejor_gasto:\n",
        "                mejor_solucion = vecino\n",
        "                mejor_gasto = gasto_vecino\n",
        "                mejora = True\n",
        "\n",
        "    return mejor_solucion, mejor_gasto\n",
        "\n",
        "# Parámetros del problema\n",
        "MAX_ITER = 1000\n",
        "NUM_DIAS = 5\n",
        "NUM_ACTORES = 10\n",
        "NUM_TOMAS_POR_DIA = 6\n",
        "\n",
        "# Ejecutar la búsqueda local heurística\n",
        "mejor_solucion, gasto_mejor_solucion = busqueda_local_heuristica(matriz_tomas, NUM_DIAS, NUM_ACTORES, NUM_TOMAS_POR_DIA, MAX_ITER)\n",
        "\n",
        "# Imprimir la mejor solución encontrada y su gasto total\n",
        "print(\"La mejor solución encontrada es:\")\n",
        "print(mejor_solucion)\n",
        "print(\"Coste total de la mejor solución:\", gasto_mejor_solucion)\n"
      ],
      "metadata": {
        "colab": {
          "base_uri": "https://localhost:8080/"
        },
        "id": "GNV7xTrgXEET",
        "outputId": "bbb258ae-f788-43e7-b01c-e172ac3c1eae"
      },
      "execution_count": null,
      "outputs": [
        {
          "output_type": "stream",
          "name": "stdout",
          "text": [
            "La mejor solución encontrada es:\n",
            "[[4 1 2 4 4 1 0 0 0 0]\n",
            " [0 0 0 0 0 0 0 0 0 0]\n",
            " [6 5 6 5 5 6 7 5 8 0]\n",
            " [2 9 7 3 0 3 0 0 0 0]\n",
            " [8 0 4 8 8 9 0 0 0 0]]\n",
            "Coste total de la mejor solución: 25\n"
          ]
        }
      ]
    },
    {
      "cell_type": "markdown",
      "source": [
        "Esta solución representa la asignación de cada toma de la película a cada uno de los actores durante varios días de grabación.\n",
        "\n",
        "Cada fila de la matriz representa un día de grabación, y cada columna representa un actor. El valor en cada celda indica la toma asignada al actor en ese día. Por ejemplo, el valor 4 en la primera fila y columna indica que la toma 4 fue asignada al actor 1 en el día 1.\n",
        "\n"
      ],
      "metadata": {
        "id": "ZfaVmbA9ShoG"
      }
    }
  ]
}