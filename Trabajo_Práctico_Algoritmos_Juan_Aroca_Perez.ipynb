{
  "nbformat": 4,
  "nbformat_minor": 0,
  "metadata": {
    "colab": {
      "provenance": [],
      "include_colab_link": true
    },
    "kernelspec": {
      "name": "python3",
      "display_name": "Python 3"
    }
  },
  "cells": [
    {
      "cell_type": "markdown",
      "metadata": {
        "id": "view-in-github",
        "colab_type": "text"
      },
      "source": [
        "<a href=\"https://colab.research.google.com/github/JuanArocaMIAR/03MIAR---Algoritmos-de-Optimizacion---2023/blob/main/Trabajo_Pr%C3%A1ctico_Algoritmos_Juan_Aroca_Perez.ipynb\" target=\"_parent\"><img src=\"https://colab.research.google.com/assets/colab-badge.svg\" alt=\"Open In Colab\"/></a>"
      ]
    },
    {
      "cell_type": "markdown",
      "metadata": {
        "id": "hVbXYX-RfPWh"
      },
      "source": [
        "# Algoritmos de optimización - Trabajo Práctico<br>\n",
        "Nombre y Apellidos: xxxxxxx xxxxxxxxxxx xxxxxxxxxx  <br>\n",
        "Url: https://github.com/LuisClauss/Algoritmos-de-optimizacion-VIU.git<br>\n",
        "Google Colab: https://colab.research.google.com/drive/xxxxxxxxxxxxxxxx <br>\n",
        "Problema:\n",
        ">1. Sesiones de doblaje <br>\n",
        ">2. Organizar los horarios de partidos de La Liga<br>\n",
        ">3. Configuración de Tribunales\n",
        "\n",
        "Descripción del problema:(copiar enunciado)\n",
        "\n",
        "....\n",
        "\n",
        "\n",
        "\n",
        "\n",
        "\n",
        "\n",
        "\n",
        "                                        "
      ]
    },
    {
      "cell_type": "markdown",
      "source": [
        "#Modelo\n",
        "- ¿Como represento el espacio de soluciones?\n",
        "- ¿Cual es la función objetivo?\n",
        "- ¿Como implemento las restricciones?"
      ],
      "metadata": {
        "id": "Sbo9IqQtpaHZ"
      }
    },
    {
      "cell_type": "markdown",
      "source": [
        "### **Problema 1:** Se precisa coordinar el doblaje de una película. Los actores del doblaje deben coincidir en las tomas en las que sus personajes aparecen juntos en las diferentes tomas. Los actores de doblaje cobran todos la misma cantidad por cada día que deben desplazarse hasta el estudio de grabación independientemente del número de tomas que se graben. No es posible grabar más de 6 tomas por día. El objetivo es planificar las sesiones por día de manera que el gasto por los servicios de los actores de doblaje sea el menor posible."
      ],
      "metadata": {
        "id": "AF6HXbABvibD"
      }
    },
    {
      "cell_type": "markdown",
      "source": [],
      "metadata": {
        "id": "67p_vszBposu"
      }
    },
    {
      "cell_type": "code",
      "metadata": {
        "id": "AiskKkzZfy4e",
        "outputId": "fe9b3e18-9618-4492-8deb-ea131ae13e5a",
        "colab": {
          "base_uri": "https://localhost:8080/",
          "height": 73
        }
      },
      "source": [
        "#Respuesta\n",
        "import numpy as np\n",
        "import pandas as pd\n",
        "from google.colab import files\n",
        "\n",
        "# Subir el archivo CSV desde tu sistema local\n",
        "archivo = files.upload()\n",
        "\n",
        "# Seleccionar el archivo\n",
        "datos = list(archivo.keys())[0]\n",
        "\n",
        "# Cargar el dataframe desde el archivo CSV\n",
        "df_actores = pd.read_csv(datos, index_col=0)\n"
      ],
      "execution_count": 30,
      "outputs": [
        {
          "output_type": "display_data",
          "data": {
            "text/plain": [
              "<IPython.core.display.HTML object>"
            ],
            "text/html": [
              "\n",
              "     <input type=\"file\" id=\"files-4d24ca92-af1b-4d02-93db-6a02104f4d10\" name=\"files[]\" multiple disabled\n",
              "        style=\"border:none\" />\n",
              "     <output id=\"result-4d24ca92-af1b-4d02-93db-6a02104f4d10\">\n",
              "      Upload widget is only available when the cell has been executed in the\n",
              "      current browser session. Please rerun this cell to enable.\n",
              "      </output>\n",
              "      <script>// Copyright 2017 Google LLC\n",
              "//\n",
              "// Licensed under the Apache License, Version 2.0 (the \"License\");\n",
              "// you may not use this file except in compliance with the License.\n",
              "// You may obtain a copy of the License at\n",
              "//\n",
              "//      http://www.apache.org/licenses/LICENSE-2.0\n",
              "//\n",
              "// Unless required by applicable law or agreed to in writing, software\n",
              "// distributed under the License is distributed on an \"AS IS\" BASIS,\n",
              "// WITHOUT WARRANTIES OR CONDITIONS OF ANY KIND, either express or implied.\n",
              "// See the License for the specific language governing permissions and\n",
              "// limitations under the License.\n",
              "\n",
              "/**\n",
              " * @fileoverview Helpers for google.colab Python module.\n",
              " */\n",
              "(function(scope) {\n",
              "function span(text, styleAttributes = {}) {\n",
              "  const element = document.createElement('span');\n",
              "  element.textContent = text;\n",
              "  for (const key of Object.keys(styleAttributes)) {\n",
              "    element.style[key] = styleAttributes[key];\n",
              "  }\n",
              "  return element;\n",
              "}\n",
              "\n",
              "// Max number of bytes which will be uploaded at a time.\n",
              "const MAX_PAYLOAD_SIZE = 100 * 1024;\n",
              "\n",
              "function _uploadFiles(inputId, outputId) {\n",
              "  const steps = uploadFilesStep(inputId, outputId);\n",
              "  const outputElement = document.getElementById(outputId);\n",
              "  // Cache steps on the outputElement to make it available for the next call\n",
              "  // to uploadFilesContinue from Python.\n",
              "  outputElement.steps = steps;\n",
              "\n",
              "  return _uploadFilesContinue(outputId);\n",
              "}\n",
              "\n",
              "// This is roughly an async generator (not supported in the browser yet),\n",
              "// where there are multiple asynchronous steps and the Python side is going\n",
              "// to poll for completion of each step.\n",
              "// This uses a Promise to block the python side on completion of each step,\n",
              "// then passes the result of the previous step as the input to the next step.\n",
              "function _uploadFilesContinue(outputId) {\n",
              "  const outputElement = document.getElementById(outputId);\n",
              "  const steps = outputElement.steps;\n",
              "\n",
              "  const next = steps.next(outputElement.lastPromiseValue);\n",
              "  return Promise.resolve(next.value.promise).then((value) => {\n",
              "    // Cache the last promise value to make it available to the next\n",
              "    // step of the generator.\n",
              "    outputElement.lastPromiseValue = value;\n",
              "    return next.value.response;\n",
              "  });\n",
              "}\n",
              "\n",
              "/**\n",
              " * Generator function which is called between each async step of the upload\n",
              " * process.\n",
              " * @param {string} inputId Element ID of the input file picker element.\n",
              " * @param {string} outputId Element ID of the output display.\n",
              " * @return {!Iterable<!Object>} Iterable of next steps.\n",
              " */\n",
              "function* uploadFilesStep(inputId, outputId) {\n",
              "  const inputElement = document.getElementById(inputId);\n",
              "  inputElement.disabled = false;\n",
              "\n",
              "  const outputElement = document.getElementById(outputId);\n",
              "  outputElement.innerHTML = '';\n",
              "\n",
              "  const pickedPromise = new Promise((resolve) => {\n",
              "    inputElement.addEventListener('change', (e) => {\n",
              "      resolve(e.target.files);\n",
              "    });\n",
              "  });\n",
              "\n",
              "  const cancel = document.createElement('button');\n",
              "  inputElement.parentElement.appendChild(cancel);\n",
              "  cancel.textContent = 'Cancel upload';\n",
              "  const cancelPromise = new Promise((resolve) => {\n",
              "    cancel.onclick = () => {\n",
              "      resolve(null);\n",
              "    };\n",
              "  });\n",
              "\n",
              "  // Wait for the user to pick the files.\n",
              "  const files = yield {\n",
              "    promise: Promise.race([pickedPromise, cancelPromise]),\n",
              "    response: {\n",
              "      action: 'starting',\n",
              "    }\n",
              "  };\n",
              "\n",
              "  cancel.remove();\n",
              "\n",
              "  // Disable the input element since further picks are not allowed.\n",
              "  inputElement.disabled = true;\n",
              "\n",
              "  if (!files) {\n",
              "    return {\n",
              "      response: {\n",
              "        action: 'complete',\n",
              "      }\n",
              "    };\n",
              "  }\n",
              "\n",
              "  for (const file of files) {\n",
              "    const li = document.createElement('li');\n",
              "    li.append(span(file.name, {fontWeight: 'bold'}));\n",
              "    li.append(span(\n",
              "        `(${file.type || 'n/a'}) - ${file.size} bytes, ` +\n",
              "        `last modified: ${\n",
              "            file.lastModifiedDate ? file.lastModifiedDate.toLocaleDateString() :\n",
              "                                    'n/a'} - `));\n",
              "    const percent = span('0% done');\n",
              "    li.appendChild(percent);\n",
              "\n",
              "    outputElement.appendChild(li);\n",
              "\n",
              "    const fileDataPromise = new Promise((resolve) => {\n",
              "      const reader = new FileReader();\n",
              "      reader.onload = (e) => {\n",
              "        resolve(e.target.result);\n",
              "      };\n",
              "      reader.readAsArrayBuffer(file);\n",
              "    });\n",
              "    // Wait for the data to be ready.\n",
              "    let fileData = yield {\n",
              "      promise: fileDataPromise,\n",
              "      response: {\n",
              "        action: 'continue',\n",
              "      }\n",
              "    };\n",
              "\n",
              "    // Use a chunked sending to avoid message size limits. See b/62115660.\n",
              "    let position = 0;\n",
              "    do {\n",
              "      const length = Math.min(fileData.byteLength - position, MAX_PAYLOAD_SIZE);\n",
              "      const chunk = new Uint8Array(fileData, position, length);\n",
              "      position += length;\n",
              "\n",
              "      const base64 = btoa(String.fromCharCode.apply(null, chunk));\n",
              "      yield {\n",
              "        response: {\n",
              "          action: 'append',\n",
              "          file: file.name,\n",
              "          data: base64,\n",
              "        },\n",
              "      };\n",
              "\n",
              "      let percentDone = fileData.byteLength === 0 ?\n",
              "          100 :\n",
              "          Math.round((position / fileData.byteLength) * 100);\n",
              "      percent.textContent = `${percentDone}% done`;\n",
              "\n",
              "    } while (position < fileData.byteLength);\n",
              "  }\n",
              "\n",
              "  // All done.\n",
              "  yield {\n",
              "    response: {\n",
              "      action: 'complete',\n",
              "    }\n",
              "  };\n",
              "}\n",
              "\n",
              "scope.google = scope.google || {};\n",
              "scope.google.colab = scope.google.colab || {};\n",
              "scope.google.colab._files = {\n",
              "  _uploadFiles,\n",
              "  _uploadFilesContinue,\n",
              "};\n",
              "})(self);\n",
              "</script> "
            ]
          },
          "metadata": {}
        },
        {
          "output_type": "stream",
          "name": "stdout",
          "text": [
            "Saving Datos problema doblaje(30 tomas, 10 actores) - Hoja 1.csv to Datos problema doblaje(30 tomas, 10 actores) - Hoja 1 (1).csv\n"
          ]
        }
      ]
    },
    {
      "cell_type": "code",
      "source": [
        "matriz_tomas = df_actores.iloc[1:31, 0:10].astype(int).values\n",
        "print(matriz_tomas)"
      ],
      "metadata": {
        "colab": {
          "base_uri": "https://localhost:8080/"
        },
        "id": "8899CIO1tBgz",
        "outputId": "4dbc4cd1-dfab-4fc9-d770-7652d3ba665d"
      },
      "execution_count": 36,
      "outputs": [
        {
          "output_type": "stream",
          "name": "stdout",
          "text": [
            "[[1 1 1 1 1 0 0 0 0 0]\n",
            " [0 0 1 1 1 0 0 0 0 0]\n",
            " [0 1 0 0 1 0 1 0 0 0]\n",
            " [1 1 0 0 0 0 1 1 0 0]\n",
            " [0 1 0 1 0 0 0 1 0 0]\n",
            " [1 1 0 1 1 0 0 0 0 0]\n",
            " [1 1 0 1 1 0 0 0 0 0]\n",
            " [1 1 0 0 0 1 0 0 0 0]\n",
            " [1 1 0 1 0 0 0 0 0 0]\n",
            " [1 1 0 0 0 1 0 0 1 0]\n",
            " [1 1 1 0 1 0 0 1 0 0]\n",
            " [1 1 1 1 0 1 0 0 0 0]\n",
            " [1 0 0 1 1 0 0 0 0 0]\n",
            " [1 0 1 0 0 1 0 0 0 0]\n",
            " [1 1 0 0 0 0 1 0 0 0]\n",
            " [0 0 0 1 0 0 0 0 0 1]\n",
            " [1 0 1 0 0 0 0 0 0 0]\n",
            " [0 0 1 0 0 1 0 0 0 0]\n",
            " [1 0 1 0 0 0 0 0 0 0]\n",
            " [1 0 1 1 1 0 0 0 0 0]\n",
            " [0 0 0 0 0 1 0 1 0 0]\n",
            " [1 1 1 1 0 0 0 0 0 0]\n",
            " [1 0 1 0 0 0 0 0 0 0]\n",
            " [0 0 1 0 0 1 0 0 0 0]\n",
            " [1 1 0 1 0 0 0 0 0 1]\n",
            " [1 0 1 0 1 0 0 0 1 0]\n",
            " [0 0 0 1 1 0 0 0 0 0]\n",
            " [1 0 0 1 0 0 0 0 0 0]\n",
            " [1 0 0 0 1 1 0 0 0 0]\n",
            " [1 0 0 1 0 0 0 0 0 0]]\n"
          ]
        }
      ]
    },
    {
      "cell_type": "markdown",
      "source": [
        " La idea para resolver este programa es el empleo del problema tipo visto en la asignatura de **Programación lineal entera** puesto que, para empezar, todas las variables son de tipo entero. Además, cumple con la premisa de que hay que buscar un máximo o mínimo de una función objetivo lineal sujeto a restricciones, que en este caso, dichas restricciones serán que los actores de\n",
        "doblaje cobran todos la misma cantidad por cada día que deben desplazarse hasta el estudio de\n",
        "grabación independientemente del número de tomas que se graben y no es posible grabar más\n",
        "de 6 tomas por día. El objetivo es planificar las sesiones por día de manera que el gasto por los\n",
        "servicios de los actores de doblaje sea el menor posible.\n",
        "\n",
        "El objetivo del problema será **minimizar el gasto** total de los actores de doblaje. Por otro lado, como algoritmo de búsqueda de la solución, **vamos a emplear ramificación y poda**, para ello, necesitamos una estructura de árbol. Los actores y las tomas ya están colocados en la tabla.\n",
        "\n",
        " Las primeras **preguntas** que debemos hacernos son: ¿Cómo diseñamos el árbol? ¿Qué mecanismo diseñamos para ramificar? ¿Cómo podamos?.\n",
        "\n",
        " Una posible manera de **diseñar el árbol** es mediante una lista de tuplas, donde cada tupla representa una asignación parcial. Cada elemento de la tupla corresponde a un actor, y el valor en ese elemento indica a qué toma ha sido asignado ese actor como se vio en teoría. En el código que proporcionaste, una tupla del árbol de soluciones tiene la forma (a1, a2, ..., an), donde a_i es el número de toma a la cual el actor i ha sido asignado."
      ],
      "metadata": {
        "id": "nynGm6eGvv2J"
      }
    },
    {
      "cell_type": "markdown",
      "source": [
        " Vamos a proveernos de una función para estimar la **cota inferior para una solución parcial**. Tenemos que hacer una estimación, esto es la que nos va a servir para podar. Se trata de una estrategia para conducir al algoritmo a que sea más eficiente, o, a que dirija la búsqueda para encontrar la solución óptima. Para la cota inferior lo que **buscamos es el mínimo de esas columnas** para que nos sirva como función de cota inferior."
      ],
      "metadata": {
        "id": "KTikyZiEwR-0"
      }
    },
    {
      "cell_type": "markdown",
      "source": [
        "#Análisis\n",
        "- ¿Que complejidad tiene el problema?. Orden de complejidad y Contabilizar el espacio de soluciones"
      ],
      "metadata": {
        "id": "HZz52wOppp-U"
      }
    },
    {
      "cell_type": "markdown",
      "source": [
        "Dado que tenemos 10 actores y 30 tomas, tenemos un espacio de soluciones de 30**10 ya que cada actor puede ser asignado a cualquiera de las 30 tomas. El valor del espacio de soluciones es muy grande por lo que destaca la complejidad de explorar todo el espacio de soluciones y la necesidad de algoritmos como ramificación y poda para encontrar soluciones óptimas de manera eficiente.\n",
        "\n",
        "El número total de soluciones tiene una expresión factorial. Esto se debe a que cada actor tiene 30 tomas entre las cuales puede ser asignado, y hay 10 actores en total, lo que supone un orden de complejidad O(N!), por lo que la técnica de ramificación y poda puede ser muy útil para reducir el número de búsqueda de soluciones."
      ],
      "metadata": {
        "id": "fwIiPw_Wq0nU"
      }
    },
    {
      "cell_type": "markdown",
      "source": [
        "#Diseño\n",
        "- ¿Que técnica utilizo? ¿Por qué?"
      ],
      "metadata": {
        "id": "ixEJUwH_pv7M"
      }
    },
    {
      "cell_type": "markdown",
      "source": [
        "Lo siguiente será aplicar la **técnica de ramificación y poda**. Hemos definido el conjunto de datos que representa el problema de asignación de los actores por tomas. Hemos definido una matriz de costo asociado a cada actor por cada toma.\n",
        "\n",
        "A continuación vamos a definir las funciones auxiliares: valor, CI, crear_hijos y ramificación_y_poda. Donde la función **valor** calcula el valor de una solución parcial, **CI** calcula una cota inferior para la solución parcial, **crear_hijos** genera los hijos de un nodo para la asignación de actores por tomas, y, la función principal **ramificación_y_poda** ejecuta el algoritmo ramificación y poda.\n",
        "\n",
        "En la ramificación y poda se van a generar nodos y ramificar el árbol de búsqueda a través de un bucle. En cada iteración se seleccionará el nodo más prometedor basándose de la cota inferior. Se generarán los jijos mediante la función \"crear_hijos\". Como es necesario también realizar una poda, se eliminarán los nodos cuya cota inferior es mayor o igual a la mejor solución encontrada hasta el momento."
      ],
      "metadata": {
        "id": "kZZzKey5wiMg"
      }
    },
    {
      "cell_type": "markdown",
      "source": [
        "Ahora lo siguiente sería: **Inicializamos la solución inicialmente con todo vacío**, y, nos vamos a ir guardando una **variable que llamamos NODOS**, los nodos que debemos explorar, los nodos vivos, con lo cual lo que hemos hecho es inicializar la solución."
      ],
      "metadata": {
        "id": "DEPPQmWd_vPf"
      }
    },
    {
      "cell_type": "markdown",
      "source": [
        "Realizamos un **bucle iterativo**, lo que hacemos es ramificar, exploramos, **buscamos el nodo prometedor**. Hemos creado una **variable HIJOS** que va a guardar los hijos, porque lo que vamos a hacer posteriormente, es podarlos. **A continuación solamente añadiremos a NODOS a aquellos nodos que hayan pasado el filtro de la poda**."
      ],
      "metadata": {
        "id": "NgY3XeAc_5EP"
      }
    },
    {
      "cell_type": "markdown",
      "source": [
        "Ultimo codigo ramificacion y poda heuristica"
      ],
      "metadata": {
        "id": "xdKqNsDfW8C2"
      }
    },
    {
      "cell_type": "code",
      "source": [
        "def CI(NODO, matriz_tomas):\n",
        "    return sum(matriz_tomas[i][NODO[i]] for i in range(len(NODO)))\n",
        "\n",
        "def generar_hijos_ordenados(NODO, DIMENSION, matriz_tomas):\n",
        "    hijos = []\n",
        "    for i in range(DIMENSION):\n",
        "        if i not in NODO:\n",
        "            hijo = {'s': NODO + (i,), 'ci': CI(NODO + (i,), matriz_tomas)}\n",
        "            hijos.append(hijo)\n",
        "    hijos.sort(key=lambda x: x['ci'])\n",
        "    return hijos\n",
        "\n",
        "def ramificacion_y_poda_heuristica(matriz_tomas):\n",
        "    DIMENSION = len(matriz_tomas[0])\n",
        "    mejor_solucion = tuple(i for i in range(DIMENSION))\n",
        "    cota_sup = CI(mejor_solucion, matriz_tomas)\n",
        "\n",
        "    nodos = [{'s': (), 'ci': CI((), matriz_tomas)}]\n",
        "    iteracion = 0\n",
        "\n",
        "    while nodos:\n",
        "        iteracion += 1\n",
        "        nodo_prometedor = min(nodos, key=lambda x: x['ci'])['s']\n",
        "        hijos = generar_hijos_ordenados(nodo_prometedor, DIMENSION, matriz_tomas)\n",
        "\n",
        "        for hijo in hijos:\n",
        "            if len(hijo['s']) == DIMENSION:\n",
        "                if hijo['ci'] < cota_sup:\n",
        "                    cota_sup = hijo['ci']\n",
        "                    mejor_solucion = hijo['s']\n",
        "            elif hijo['ci'] < cota_sup:\n",
        "                nodos.append(hijo)\n",
        "\n",
        "        nodos = [x for x in nodos if x['s'] != nodo_prometedor]\n",
        "\n",
        "    print(\"La solución final es:\", mejor_solucion)\n",
        "\n",
        "ramificacion_y_poda_heuristica(matriz_tomas)"
      ],
      "metadata": {
        "colab": {
          "base_uri": "https://localhost:8080/"
        },
        "id": "xvXH-dGvUzrs",
        "outputId": "3f66e52b-df2c-42f7-8bc8-d986caa84463"
      },
      "execution_count": 63,
      "outputs": [
        {
          "output_type": "stream",
          "name": "stdout",
          "text": [
            "La solución final es: (5, 1, 0, 2, 4, 6, 7, 3, 8, 9)\n"
          ]
        }
      ]
    },
    {
      "cell_type": "markdown",
      "source": [
        "busqueda local heuristico"
      ],
      "metadata": {
        "id": "V2TWmWIsXCWh"
      }
    },
    {
      "cell_type": "code",
      "source": [
        "import numpy as np\n",
        "\n",
        "# Función para calcular el gasto total de una asignación\n",
        "def gasto_total(asignacion, matriz_tomas):\n",
        "    num_dias, num_actores = asignacion.shape\n",
        "    gasto_total = 0\n",
        "    for i in range(num_dias):\n",
        "        for j in range(num_actores):\n",
        "            gasto_total += matriz_tomas[asignacion[i][j]][i]  # Sumar el costo de la toma asignada al actor en el día i\n",
        "    return gasto_total\n",
        "\n",
        "# Función para generar una solución inicial aleatoria\n",
        "def generar_solucion_inicial(num_dias, num_actores, num_tomas_por_dia):\n",
        "    # Generar una asignación aleatoria respetando las restricciones de número máximo de tomas por día\n",
        "    asignacion = np.zeros((num_dias, num_actores), dtype=int)\n",
        "    for i in range(num_dias):\n",
        "        tomas_disponibles = np.arange(num_actores)\n",
        "        np.random.shuffle(tomas_disponibles)\n",
        "        asignacion[i, :num_tomas_por_dia] = tomas_disponibles[:num_tomas_por_dia]\n",
        "    return asignacion\n",
        "\n",
        "# Vecindad: intercambiar dos tomas entre días\n",
        "def vecindad(asignacion):\n",
        "    vecinos = []\n",
        "    num_dias, num_actores = asignacion.shape\n",
        "    for i in range(num_dias):\n",
        "        for j in range(i + 1, num_dias):\n",
        "            for k in range(num_actores):\n",
        "                for l in range(num_actores):\n",
        "                    vecino = asignacion.copy()\n",
        "                    vecino[i, k], vecino[j, l] = vecino[j, l], vecino[i, k]\n",
        "                    vecinos.append(vecino)\n",
        "    return vecinos\n",
        "\n",
        "# Búsqueda local heurística\n",
        "def busqueda_local_heuristica(matriz_tomas, num_dias, num_actores, num_tomas_por_dia, max_iter):\n",
        "    mejor_solucion = generar_solucion_inicial(num_dias, num_actores, num_tomas_por_dia)\n",
        "    mejor_gasto = gasto_total(mejor_solucion, matriz_tomas)\n",
        "\n",
        "    iteracion = 0\n",
        "    mejora = True\n",
        "    while mejora and iteracion < max_iter:\n",
        "        mejora = False\n",
        "        iteracion += 1\n",
        "        for vecino in vecindad(mejor_solucion):\n",
        "            gasto_vecino = gasto_total(vecino, matriz_tomas)\n",
        "            if gasto_vecino < mejor_gasto:\n",
        "                mejor_solucion = vecino\n",
        "                mejor_gasto = gasto_vecino\n",
        "                mejora = True\n",
        "\n",
        "    return mejor_solucion, mejor_gasto\n",
        "\n",
        "# Parámetros del problema\n",
        "MAX_ITER = 1000\n",
        "NUM_DIAS = 5  # Número de días de grabación\n",
        "NUM_ACTORES = 10  # Número de actores\n",
        "NUM_TOMAS_POR_DIA = 6  # Máximo número de tomas por día\n",
        "\n",
        "# Ejecutar la búsqueda local heurística\n",
        "mejor_solucion, gasto_mejor_solucion = busqueda_local_heuristica(matriz_tomas, NUM_DIAS, NUM_ACTORES, NUM_TOMAS_POR_DIA, MAX_ITER)\n",
        "\n",
        "print(\"La mejor solución encontrada es:\")\n",
        "print(mejor_solucion)\n",
        "print(\"Gasto total de la mejor solución:\", gasto_mejor_solucion)\n"
      ],
      "metadata": {
        "colab": {
          "base_uri": "https://localhost:8080/"
        },
        "id": "GNV7xTrgXEET",
        "outputId": "6d8bd78f-5ddc-41df-f785-32de0e222c55"
      },
      "execution_count": 58,
      "outputs": [
        {
          "output_type": "stream",
          "name": "stdout",
          "text": [
            "La mejor solución encontrada es:\n",
            "[[2 1 0 4 1 0 0 0 0 0]\n",
            " [1 0 0 1 0 0 0 0 0 0]\n",
            " [5 6 8 5 5 2 6 7 3 8]\n",
            " [9 9 3 7 7 7 0 0 0 0]\n",
            " [4 8 3 9 0 8 0 0 0 0]]\n",
            "Gasto total de la mejor solución: 23\n"
          ]
        }
      ]
    }
  ]
}