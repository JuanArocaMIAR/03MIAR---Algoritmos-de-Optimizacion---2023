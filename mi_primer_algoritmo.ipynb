{
  "nbformat": 4,
  "nbformat_minor": 0,
  "metadata": {
    "colab": {
      "provenance": [],
      "authorship_tag": "ABX9TyM9695I6tYLped+pieo+CoE",
      "include_colab_link": true
    },
    "kernelspec": {
      "name": "python3",
      "display_name": "Python 3"
    },
    "language_info": {
      "name": "python"
    }
  },
  "cells": [
    {
      "cell_type": "markdown",
      "metadata": {
        "id": "view-in-github",
        "colab_type": "text"
      },
      "source": [
        "<a href=\"https://colab.research.google.com/github/JuanArocaMIAR/03MIAR---Algoritmos-de-Optimizacion---2023/blob/main/mi_primer_algoritmo.ipynb\" target=\"_parent\"><img src=\"https://colab.research.google.com/assets/colab-badge.svg\" alt=\"Open In Colab\"/></a>"
      ]
    },
    {
      "cell_type": "code",
      "execution_count": 8,
      "metadata": {
        "colab": {
          "base_uri": "https://localhost:8080/"
        },
        "id": "XblQLrRBrnS8",
        "outputId": "badc2eef-e978-4f6d-9acf-057c12bcafea"
      },
      "outputs": [
        {
          "output_type": "stream",
          "name": "stdout",
          "text": [
            "Usando conjuntos:\n",
            "[2, 7, 13]\n",
            "Usando listas:\n",
            "[2, 7, 13]\n"
          ]
        }
      ],
      "source": [
        "A = set([1,2,6,7,12,13,15])\n",
        "B = set([2,3,4,7,13])\n",
        "comunes = A & B\n",
        "print(f'Usando conjuntos:\\n{sorted(comunes)}')\n",
        "\n",
        "### Sin usar conjuntos\n",
        "lista_comunes = []\n",
        "for i in A:\n",
        "  if (i in B) and (i not in lista_comunes):\n",
        "    lista_comunes.append(i)\n",
        "print(f'Usando listas:\\n{lista_comunes}')"
      ]
    }
  ]
}