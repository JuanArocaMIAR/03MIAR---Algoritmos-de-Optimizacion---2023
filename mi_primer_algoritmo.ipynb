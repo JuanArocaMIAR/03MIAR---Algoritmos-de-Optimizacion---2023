{
  "nbformat": 4,
  "nbformat_minor": 0,
  "metadata": {
    "colab": {
      "provenance": [],
      "authorship_tag": "ABX9TyOANSv9Fm4iUu+Og6W0yQAA",
      "include_colab_link": true
    },
    "kernelspec": {
      "name": "python3",
      "display_name": "Python 3"
    },
    "language_info": {
      "name": "python"
    }
  },
  "cells": [
    {
      "cell_type": "markdown",
      "metadata": {
        "id": "view-in-github",
        "colab_type": "text"
      },
      "source": [
        "<a href=\"https://colab.research.google.com/github/JuanArocaMIAR/03MIAR---Algoritmos-de-Optimizacion---2023/blob/main/mi_primer_algoritmo.ipynb\" target=\"_parent\"><img src=\"https://colab.research.google.com/assets/colab-badge.svg\" alt=\"Open In Colab\"/></a>"
      ]
    },
    {
      "cell_type": "code",
      "execution_count": 7,
      "metadata": {
        "colab": {
          "base_uri": "https://localhost:8080/"
        },
        "id": "XblQLrRBrnS8",
        "outputId": "edcc5ae8-c06d-4c35-9b1c-94fb9d1debfd"
      },
      "outputs": [
        {
          "output_type": "stream",
          "name": "stdout",
          "text": [
            "Usando conjuntos:\n",
            "[2, 7, 13]\n",
            "Usando listas:\n",
            "[2, 7, 13]\n"
          ]
        }
      ],
      "source": [
        "A = set([1,2,6,7,12,13,15])\n",
        "B = set([2,3,4,7,13])\n",
        "comunes = A & B\n",
        "print(f'Usando conjuntos:\\n{sorted(comunes)}')\n",
        "\n",
        "### Sin usar conjuntos\n",
        "lista_comunes = []\n",
        "for i in A:\n",
        "  if i in B and i not in lista_comunes:\n",
        "    lista_comunes.append(i)\n",
        "print(f'Usando listas:\\n{lista_comunes}')"
      ]
    }
  ]
}